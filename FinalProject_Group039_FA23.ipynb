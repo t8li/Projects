{
  "cells": [
    {
      "cell_type": "markdown",
      "metadata": {
        "id": "view-in-github",
        "colab_type": "text"
      },
      "source": [
        "<a href=\"https://colab.research.google.com/github/t8li/Projects/blob/main/FinalProject_Group039_FA23.ipynb\" target=\"_parent\"><img src=\"https://colab.research.google.com/assets/colab-badge.svg\" alt=\"Open In Colab\"/></a>"
      ]
    },
    {
      "cell_type": "markdown",
      "metadata": {
        "id": "bflcb9gpD18w"
      },
      "source": [
        "# COGS 108 - NBA Performance Metrics During the \"Bubble\" vs. Typical Seasons\n",
        "\n",
        "**Watch the video here**: https://drive.google.com/file/d/17l84QTNIIVB0eskPuqL3SklWMSENwzIE/view?usp=sharing\n",
        "\n",
        "# Permissions\n",
        "\n",
        "Place an `X` in the appropriate bracket below to specify if you would like your group's project to be made available to the public. (Note that student names will be included (but PIDs will be scraped from any groups who include their PIDs)).\n",
        "\n",
        "* [X] YES - make available\n",
        "* [  ] NO - keep private\n",
        "\n",
        "# Names\n",
        "\n",
        "- Jared Banawa\n",
        "- Hongchao Hu\n",
        "- Arina Konnova\n",
        "- Tiankuo Li\n",
        "- Khoi Nguyen\n",
        "\n",
        "# Abstract\n",
        "This study investigates the impact of playing in the NBA \"Bubble\" on player performance, focusing on multiple performance metrics such as field goal percentages (FG%), points per game, minutes per game, and defensive statistics. The NBA \"Bubble\" refers to the unique setting created at Disney World in Florida during the 2019-2020 season in response to the COVID-19 pandemic, where teams played without traditional home-court advantages and in the absence of live audiences.\n",
        "\n",
        "Our hypothesis posited that the \"Bubble\" environment would lead to noticeable changes in player performance metrics compared to traditional home and away games. However, our analysis, encompassing regular and post-seasons from 2018 to 2021, did not yield statistically significant differences in performance metrics, including Points per Game, Minutes per Game, Field Goal Percentages, and Turnover Rates.\n",
        "\n",
        "Exploratory Data Analysis revealed subtle year-to-year trends but suggested minimal variations in performance metrics between the \"Bubble\" season and typical seasons. Inferential Analysis through t-tests did not support our hypothesis, indicating that the unique conditions of the \"Bubble\" did not significantly impact player performance on a statistical or analytical level.\n",
        "\n",
        "While our findings do not provide evidence for a significant influence of the \"Bubble\" environment on player performance metrics, the study contributes to the broader understanding of how environmental factors may or may not affect professional athletes. Future research could delve deeper into the dynamics of home-court advantage, the psychological aspects of playing without an audience, and the potential long-term effects of such unique playing conditions."
      ]
    },
    {
      "cell_type": "markdown",
      "metadata": {
        "id": "m8N3pDHCD18y"
      },
      "source": [
        "# Research Question"
      ]
    },
    {
      "cell_type": "markdown",
      "metadata": {
        "id": "cabjWOFxD18y"
      },
      "source": [
        "### Main Question:\n",
        "**What is the impact of playing in the NBA \"Bubble\" on player performance, considering multiple performance metrics?**\n",
        "\n",
        "This question seeks to delve into the unique conditions of the \"Bubble\" and their effects on NBA players, going beyond the traditional dynamics of home-court advantage.\n",
        "\n",
        "### Specific Subquestions:\n",
        "- **Comparative Analysis of Performance Metrics**:\n",
        "  - Is there a statistically significant difference in field goal percentages between \"The Bubble\" season and regular season games?\n",
        "  - How do overall game statistics (points per game and minutes per game) and defensive statistics (like steals, blocks, and defensive rebounds) compare between the two environments?\n",
        "\n",
        "- **Environmental Factors and Performance**:\n",
        "  - How does the absence of a live audience in \"The Bubble\" correlate with changes in various performance metrics?\n",
        "  - Does the reduction of travel in \"The Bubble\" have a measurable impact on player performance, specifically in terms of field goal percentages and overall efficiency?\n",
        "\n",
        "### Motivations and Importance:\n",
        "The NBA \"Bubble\" represents an unprecedented setting in professional sports, where traditional home-court advantages and typical environmental factors were absent. This unique scenario provides a rare opportunity to study the impact of environmental variables on athlete performance. Understanding these effects can offer insights into:\n",
        "- **Player Psychology**: The absence of a live audience and the isolated setting of the Bubble could significantly impact the psychological state of players, potentially affecting their performance.\n",
        "- **Physical Factors**: With reduced travel, players may have experienced different physical strain levels than in a typical season. Analyzing this can shed light on the importance of rest and recovery in athlete performance.\n",
        "- **Strategic Insights for Teams and Leagues**: Findings from this study could help teams and leagues understand how different environments and conditions impact player performance, aiding in future planning and decision-making.\n",
        "- **Academic Contribution**: This study fills a gap in sports science and psychology by providing empirical evidence on the impact of environment and conditions on professional athletes.\n",
        "\n"
      ]
    },
    {
      "cell_type": "markdown",
      "metadata": {
        "id": "t4LxhVcPD18y"
      },
      "source": [
        "## Background and Prior Work"
      ]
    },
    {
      "cell_type": "markdown",
      "metadata": {
        "id": "WdxRGnO2D18z"
      },
      "source": [
        "\n",
        "### Introduction\n",
        "The concept of \"home court advantage\" is pivotal in professional sports, particularly pronounced in the NBA where home teams historically enjoy higher win rates. The 2019-2020 NBA season, disrupted by the COVID-19 pandemic, led to the establishment of \"The Bubble\" at Disney World in Florida, providing a unique context. In this setting, teams played without the traditional home-court dynamics, isolated from external factors like family and familiar environments. Our project aims to analyze how this neutral setting impacted player performance, focusing on field goal percentage (FG%), points per game (PTS), and minutes per game(MIN) as primary metrics, chosen for their ability to encapsulate a player's scoring efficiency and overall contribution both offensively and defensively.\n",
        "\n",
        "### Prior Work\n",
        "#### Home Court Advantage Dynamics:\n",
        "A study by Lopez, Matthews, & Baumer (2018) emphasized the role of home court advantage in NBA team success, citing factors like crowd support, familiarity with the playing arena, and potential referee bias. The \"Bubble\" environment, devoid of these elements, offers a unique case to study the absence of such advantages and their impact on game outcomes and individual performances.\n",
        "\n",
        "#### The Role of Rest:\n",
        "Entine & Small (2008) highlighted the significance of rest in team performance, noting that well-rested teams, often a feature of home games due to less travel, perform better. The \"Bubble\" eliminated travel-related fatigue, standardizing rest periods across teams, providing a unique opportunity to analyze performance in a setting where rest is consistent for all.\n",
        "\n",
        "#### Bridging the Gap:\n",
        "These studies shed light on factors influencing team performance, yet a gap remains in understanding the direct impact of neutral environments, like \"The Bubble,\" on individual player metrics such as FG%. Our project seeks to bridge this gap, analyzing the absence of traditional home-court advantages and the uniformity of rest and travel conditions in \"The Bubble\" and their effects on player performance.\n",
        "\n",
        "### References:\n",
        "- Lopez, M. J., Matthews, G. J., & Baumer, B. S. (2018). *How Often Does the Best Team Win? A Unified Approach to Understanding Randomness in North American Sport.* The Annals of Applied Statistics, 12(4), 2483–2516. JSTOR\n",
        "- Entine, O. & Small, D. (2008). *The Role of Rest in the NBA Home-Court Advantage.* Journal of Quantitative Analysis in Sports, 4(2). DOI\n"
      ]
    },
    {
      "cell_type": "markdown",
      "metadata": {
        "id": "uhqs2uuRD18z"
      },
      "source": [
        "# Hypothesis\n"
      ]
    },
    {
      "cell_type": "markdown",
      "metadata": {
        "id": "4guAEkHvD18z"
      },
      "source": [
        "\n",
        "### Statement:\n",
        "**Hypothesis: Playing in the NBA \"Bubble\" leads to a noticeable change in player performance metrics, including field goal percentages (FG%), compared to traditional home and away games.**\n",
        "\n",
        "### Rationale:\n",
        "The \"Bubble\" environment, characterized by its neutral venue, absence of a live audience, and reduced travel stress, presents a unique setting for professional athletes. We hypothesize that this setting minimizes external stressors and distractions, potentially leading to changes in performance metrics. Key aspects include:\n",
        "\n",
        "- **Physical Condition**: The elimination of travel-related fatigue may result in better physical condition for players. This aspect is crucial as it directly affects players' endurance, reaction time, and overall performance on the court.\n",
        "- **Psychological Impact**: The absence of a live audience could reduce psychological pressures commonly associated with home or away games. This factor might influence player performance, particularly in high-pressure situations, and could lead to more consistent performances across games.\n",
        "- **Neutral Environment**: The \"Bubble\" represents a controlled, neutral environment, which may affect players differently than the varying conditions of different arenas and crowds.\n",
        "\n",
        "These factors are anticipated to have a quantifiable impact on player performance, as reflected in FG%. By examining these metrics, we aim to offer a deeper understanding of how environmental factors influence athlete performance. This analysis could have broader implications for understanding the dynamics of sports performance under varying environmental conditions.\n",
        "\n",
        "### Implications:\n",
        "- **Understanding Environmental Influence**: Our hypothesis, if supported, could provide valuable insights into the extent to which environmental factors influence sports performance.\n",
        "- **Informing Future Sports Strategies**: The findings could inform sports teams and leagues on the potential advantages of neutral environments, possibly influencing future decisions regarding game locations and formats.\n",
        "- **Contributions to Sports Psychology and Analytics**: This research could contribute to the fields of sports psychology and analytics by providing empirical evidence on how changes in environment impact athlete performance.\n",
        "\n",
        "This enhanced hypothesis section underscores the potential impact and importance of our research, setting the stage for a thorough and insightful analysis."
      ]
    },
    {
      "cell_type": "markdown",
      "metadata": {
        "id": "e9aFraA4D18z"
      },
      "source": [
        "# Data"
      ]
    },
    {
      "cell_type": "markdown",
      "metadata": {
        "id": "Z1e2cMUpD18z"
      },
      "source": [
        "## Data overview\n",
        "\n",
        "- Dataset #1\n",
        "  - Dataset Name: NBA_Player_Stats_2018-19.csv\n",
        "  - Link to the dataset: https://www.nba.com/stats/players/traditional?Season=2018-19\n",
        "  - Number of observations: 530\n",
        "  - Number of variables: 66, but we will not use all of them\n",
        "- Dataset #2\n",
        "  - Dataset Name: NBA_Player_Stats_2019-20.csv\n",
        "  - Link to the dataset: https://www.nba.com/stats/players/traditional?Season=2019-20\n",
        "  - Number of observations: 529\n",
        "  - Number of variables: 66, but we will not use all of them\n",
        "- Dataset #3\n",
        "  - Dataset Name: NBA_Player_Stats_2020-21.csv\n",
        "  - Link to the dataset: https://www.nba.com/stats/players/traditional?Season=2020-21\n",
        "  - Number of observations: 540\n",
        "  - Number of variables: 66, but we will not use all of them\n",
        "- Dataset #4\n",
        "  - Dataset Name: NBA_Post_Season_Player_Stats_2018-19.csv\n",
        "  - Link to the dataset: https://www.nba.com/stats/players/traditional?Season=2018-19&SeasonType=Playoffs\n",
        "  - Number of observations: 212\n",
        "  - Number of variables: 66, but we will not use all of them\n",
        "- Dataset #5\n",
        "  - Dataset Name: NBA_Post_Season_Player_Stats_2019-20.csv\n",
        "  - Link to the dataset: https://www.nba.com/stats/players/traditional?Season=2019-20&SeasonType=Playoffs\n",
        "  - Number of observations: 217\n",
        "  - Number of variables: 66, but we will not use all of them\n",
        "- Dataset #6\n",
        "  - Dataset Name: NBA_Post_Season_Player_Stats_2020-21.csv\n",
        "  - Link to the dataset: https://www.nba.com/stats/players/traditional?Season=2020-21&SeasonType=Playoffs\n",
        "  - Number of observations: 239\n",
        "  - Number of variables: 66, but we will not use all of them\n",
        "  \n",
        "\n",
        "The Player_Stats datasets describe NBA player performance statistics for the 2018-2019, 2019-2020, and 2020-2021 seasons. The Post_Season_Player_Stats datasets describe NBA player performance statistics for the 2018-2019, 2019-2020, and 2020-2021 postseasons. The post-season has a multiple knockout round, so the intensity and competitiveness reach their peak. As such, player performance during the playoffs is more crucial in determining player capability. Since \"The Bubble\" was in effect during the tail end of the 2019-2020 regular season and for the entirety of the 2019-2020 postseason, we will be considering those two datasets as representative of statistics during \"The Bubble,\" and the remaining four datasets as representative of typical season and postseason statistics. We will be combining the three regular season datasets into one, and the three postseason datasets into one for ease of analysis.\n",
        "\n",
        "### Variables to Measure:\n",
        "1. **Field Goal Percentage (FG%)**: This metric, calculated as (Field Goals Made / Field Goals Attempted) * 100, is a critical measure of shooting efficiency. It will be used to assess changes in player accuracy and scoring ability under the unique conditions of the \"Bubble.\"\n",
        "2. **Player Efficiency Rating (PER)**: PER is a comprehensive statistic that summarizes a player's per-minute productivity. It's an essential metric for evaluating overall player performance, combining various aspects of the game into a single figure. In the context of our study, it will help us understand how the \"Bubble\" environment may have impacted players' overall effectiveness on the court.\n",
        "3. **Defensive Statistics**: Including steals, blocks, and defensive rebounds, these statistics are vital for evaluating players' defensive performance. The \"Bubble\" setting may have influenced defensive strategies and player reactions, making these metrics crucial for a holistic performance analysis.\n",
        "4. **Game Environment**: This categorical variable distinguishes between \"The Bubble\" and regular season games (with the traditional home/away system). It's central to our study as it directly addresses the research question, enabling comparisons between the two distinct settings.\n",
        "5. **Player Role/Position**: Recognizing that players have different roles and positions, this variable will help us analyze how the \"Bubble\" differently impacted players depending on their role in the game. This could reveal position-specific trends or role-based differences in adapting to the \"Bubble\" environment.\n",
        "6. **Player and Team Identifiers**: These are crucial for tracking and comparing individual and team performances. This granularity allows us to see if the \"Bubble\" had uniform effects across the board or if certain players or teams were more significantly impacted.\n",
        "7. **Audience Presence**: A binary variable indicating the presence (1) or absence (0) of a live audience. This factor is a key aspect of the \"Bubble\" environment, and its potential impact on player performance, particularly in high-pressure situations, is of significant interest.\n",
        "8. **Travel Frequency**: Reflecting the amount of travel required for each game and categorized as High, Medium, or Low, this variable is relevant for understanding the physical and psychological impact of travel on players. The \"Bubble\"'s elimination of travel offers a unique opportunity to evaluate its effects on performance.\n"
      ]
    },
    {
      "cell_type": "markdown",
      "metadata": {
        "id": "8kNpXlxjD18z"
      },
      "source": [
        "# Setup"
      ]
    },
    {
      "cell_type": "code",
      "execution_count": null,
      "metadata": {
        "id": "KIxAaCW8D18z"
      },
      "outputs": [],
      "source": [
        "#import packages\n",
        "import pandas as pd\n",
        "import numpy as np\n",
        "import matplotlib.pyplot as plt\n",
        "import seaborn as sns\n",
        "from scipy import stats\n",
        "from scipy.stats import ttest_ind\n",
        "import statsmodels.api as sm"
      ]
    },
    {
      "cell_type": "markdown",
      "metadata": {
        "id": "AxXixX2PD180"
      },
      "source": [
        "## Dataset NBA Player Stats 2018-21 Regular Seasons"
      ]
    },
    {
      "cell_type": "code",
      "execution_count": null,
      "metadata": {
        "id": "Befy1SjCD180"
      },
      "outputs": [],
      "source": [
        "df_18_19 = pd.read_csv('data/NBA_Player_Stats_2018-19.csv')\n",
        "df_19_20 = pd.read_csv('data/NBA_Player_Stats_2019-20.csv')\n",
        "df_20_21 = pd.read_csv('data/NBA_Player_Stats_2020-21.csv')"
      ]
    },
    {
      "cell_type": "markdown",
      "metadata": {
        "id": "awZ9nEScD180"
      },
      "source": [
        "## Dataset NBA Player Stats 2018-21 Post Seasons"
      ]
    },
    {
      "cell_type": "code",
      "execution_count": null,
      "metadata": {
        "id": "TFxvtByoD180"
      },
      "outputs": [],
      "source": [
        "df_p_18_19 = pd.read_csv('data/NBA_Post_Season_Player_Stats_2018-19.csv')\n",
        "df_p_19_20 = pd.read_csv('data/NBA_Post_Season_Player_Stats_2019-20.csv')\n",
        "df_p_20_21 = pd.read_csv('data/NBA_Post_Season_Player_Stats_2020-21.csv')"
      ]
    },
    {
      "cell_type": "markdown",
      "metadata": {
        "id": "43bW0GhgD180"
      },
      "source": [
        "# Data Wrangling/Cleaning"
      ]
    },
    {
      "cell_type": "code",
      "execution_count": null,
      "metadata": {
        "id": "b6D2u8oFD180"
      },
      "outputs": [],
      "source": [
        "# add 'YEAR' column to regular season dataframes\n",
        "df_18_19.insert(0, 'YEAR', 2019)\n",
        "df_19_20.insert(0, 'YEAR', 2020)\n",
        "df_20_21.insert(0, 'YEAR', 2021)\n",
        "\n",
        "# add 'YEAR' column to post-season dataframes\n",
        "df_p_18_19.insert(0, 'YEAR', 2019)\n",
        "df_p_19_20.insert(0, 'YEAR', 2020)\n",
        "df_p_20_21.insert(0, 'YEAR', 2021)"
      ]
    },
    {
      "cell_type": "code",
      "execution_count": null,
      "metadata": {
        "id": "qpj0YdbZD180"
      },
      "outputs": [],
      "source": [
        "# combine the three regular season dataframes\n",
        "df_regular_season = pd.concat([df_18_19, df_19_20, df_20_21], ignore_index=True)\n",
        "\n",
        "# combine the three post-season dataframes\n",
        "df_post_season = pd.concat([df_p_18_19, df_p_19_20, df_p_20_21], ignore_index=True)"
      ]
    },
    {
      "cell_type": "code",
      "execution_count": null,
      "metadata": {
        "id": "yh6hlpPiD180",
        "outputId": "e97bb4f5-5fac-4d62-b751-205da4f37859"
      },
      "outputs": [
        {
          "data": {
            "text/html": [
              "<div>\n",
              "<style scoped>\n",
              "    .dataframe tbody tr th:only-of-type {\n",
              "        vertical-align: middle;\n",
              "    }\n",
              "\n",
              "    .dataframe tbody tr th {\n",
              "        vertical-align: top;\n",
              "    }\n",
              "\n",
              "    .dataframe thead th {\n",
              "        text-align: right;\n",
              "    }\n",
              "</style>\n",
              "<table border=\"1\" class=\"dataframe\">\n",
              "  <thead>\n",
              "    <tr style=\"text-align: right;\">\n",
              "      <th></th>\n",
              "      <th>YEAR</th>\n",
              "      <th>PLAYER_ID</th>\n",
              "      <th>PLAYER_NAME</th>\n",
              "      <th>NICKNAME</th>\n",
              "      <th>TEAM_ID</th>\n",
              "      <th>TEAM_ABBREVIATION</th>\n",
              "      <th>AGE</th>\n",
              "      <th>GP</th>\n",
              "      <th>W</th>\n",
              "      <th>L</th>\n",
              "      <th>...</th>\n",
              "      <th>BLK_RANK</th>\n",
              "      <th>BLKA_RANK</th>\n",
              "      <th>PF_RANK</th>\n",
              "      <th>PFD_RANK</th>\n",
              "      <th>PTS_RANK</th>\n",
              "      <th>PLUS_MINUS_RANK</th>\n",
              "      <th>NBA_FANTASY_PTS_RANK</th>\n",
              "      <th>DD2_RANK</th>\n",
              "      <th>TD3_RANK</th>\n",
              "      <th>WNBA_FANTASY_PTS_RANK</th>\n",
              "    </tr>\n",
              "  </thead>\n",
              "  <tbody>\n",
              "    <tr>\n",
              "      <th>0</th>\n",
              "      <td>2019</td>\n",
              "      <td>203932</td>\n",
              "      <td>Aaron Gordon</td>\n",
              "      <td>Aaron</td>\n",
              "      <td>1610612753</td>\n",
              "      <td>ORL</td>\n",
              "      <td>23.0</td>\n",
              "      <td>78</td>\n",
              "      <td>40</td>\n",
              "      <td>38</td>\n",
              "      <td>...</td>\n",
              "      <td>50</td>\n",
              "      <td>471</td>\n",
              "      <td>439</td>\n",
              "      <td>39</td>\n",
              "      <td>52</td>\n",
              "      <td>91</td>\n",
              "      <td>43</td>\n",
              "      <td>34</td>\n",
              "      <td>38</td>\n",
              "      <td>40</td>\n",
              "    </tr>\n",
              "    <tr>\n",
              "      <th>1</th>\n",
              "      <td>2019</td>\n",
              "      <td>1628988</td>\n",
              "      <td>Aaron Holiday</td>\n",
              "      <td>Aaron</td>\n",
              "      <td>1610612754</td>\n",
              "      <td>IND</td>\n",
              "      <td>22.0</td>\n",
              "      <td>50</td>\n",
              "      <td>31</td>\n",
              "      <td>19</td>\n",
              "      <td>...</td>\n",
              "      <td>260</td>\n",
              "      <td>218</td>\n",
              "      <td>210</td>\n",
              "      <td>283</td>\n",
              "      <td>302</td>\n",
              "      <td>97</td>\n",
              "      <td>324</td>\n",
              "      <td>261</td>\n",
              "      <td>38</td>\n",
              "      <td>320</td>\n",
              "    </tr>\n",
              "    <tr>\n",
              "      <th>2</th>\n",
              "      <td>2019</td>\n",
              "      <td>1627846</td>\n",
              "      <td>Abdel Nader</td>\n",
              "      <td>Abdel</td>\n",
              "      <td>1610612760</td>\n",
              "      <td>OKC</td>\n",
              "      <td>25.0</td>\n",
              "      <td>61</td>\n",
              "      <td>38</td>\n",
              "      <td>23</td>\n",
              "      <td>...</td>\n",
              "      <td>277</td>\n",
              "      <td>172</td>\n",
              "      <td>203</td>\n",
              "      <td>351</td>\n",
              "      <td>324</td>\n",
              "      <td>464</td>\n",
              "      <td>344</td>\n",
              "      <td>261</td>\n",
              "      <td>38</td>\n",
              "      <td>338</td>\n",
              "    </tr>\n",
              "    <tr>\n",
              "      <th>3</th>\n",
              "      <td>2019</td>\n",
              "      <td>201143</td>\n",
              "      <td>Al Horford</td>\n",
              "      <td>Al</td>\n",
              "      <td>1610612738</td>\n",
              "      <td>BOS</td>\n",
              "      <td>33.0</td>\n",
              "      <td>68</td>\n",
              "      <td>41</td>\n",
              "      <td>27</td>\n",
              "      <td>...</td>\n",
              "      <td>23</td>\n",
              "      <td>353</td>\n",
              "      <td>343</td>\n",
              "      <td>154</td>\n",
              "      <td>97</td>\n",
              "      <td>37</td>\n",
              "      <td>64</td>\n",
              "      <td>70</td>\n",
              "      <td>16</td>\n",
              "      <td>78</td>\n",
              "    </tr>\n",
              "    <tr>\n",
              "      <th>4</th>\n",
              "      <td>2019</td>\n",
              "      <td>202329</td>\n",
              "      <td>Al-Farouq Aminu</td>\n",
              "      <td>Al-Farouq</td>\n",
              "      <td>1610612757</td>\n",
              "      <td>POR</td>\n",
              "      <td>28.0</td>\n",
              "      <td>81</td>\n",
              "      <td>52</td>\n",
              "      <td>29</td>\n",
              "      <td>...</td>\n",
              "      <td>119</td>\n",
              "      <td>353</td>\n",
              "      <td>382</td>\n",
              "      <td>128</td>\n",
              "      <td>133</td>\n",
              "      <td>17</td>\n",
              "      <td>95</td>\n",
              "      <td>60</td>\n",
              "      <td>38</td>\n",
              "      <td>104</td>\n",
              "    </tr>\n",
              "  </tbody>\n",
              "</table>\n",
              "<p>5 rows × 67 columns</p>\n",
              "</div>"
            ],
            "text/plain": [
              "   YEAR  PLAYER_ID      PLAYER_NAME   NICKNAME     TEAM_ID TEAM_ABBREVIATION  \\\n",
              "0  2019     203932     Aaron Gordon      Aaron  1610612753               ORL   \n",
              "1  2019    1628988    Aaron Holiday      Aaron  1610612754               IND   \n",
              "2  2019    1627846      Abdel Nader      Abdel  1610612760               OKC   \n",
              "3  2019     201143       Al Horford         Al  1610612738               BOS   \n",
              "4  2019     202329  Al-Farouq Aminu  Al-Farouq  1610612757               POR   \n",
              "\n",
              "    AGE  GP   W   L  ...  BLK_RANK  BLKA_RANK  PF_RANK  PFD_RANK  PTS_RANK  \\\n",
              "0  23.0  78  40  38  ...        50        471      439        39        52   \n",
              "1  22.0  50  31  19  ...       260        218      210       283       302   \n",
              "2  25.0  61  38  23  ...       277        172      203       351       324   \n",
              "3  33.0  68  41  27  ...        23        353      343       154        97   \n",
              "4  28.0  81  52  29  ...       119        353      382       128       133   \n",
              "\n",
              "   PLUS_MINUS_RANK  NBA_FANTASY_PTS_RANK  DD2_RANK  TD3_RANK  \\\n",
              "0               91                    43        34        38   \n",
              "1               97                   324       261        38   \n",
              "2              464                   344       261        38   \n",
              "3               37                    64        70        16   \n",
              "4               17                    95        60        38   \n",
              "\n",
              "   WNBA_FANTASY_PTS_RANK  \n",
              "0                     40  \n",
              "1                    320  \n",
              "2                    338  \n",
              "3                     78  \n",
              "4                    104  \n",
              "\n",
              "[5 rows x 67 columns]"
            ]
          },
          "execution_count": 6,
          "metadata": {},
          "output_type": "execute_result"
        }
      ],
      "source": [
        "# display the regular season dataframes\n",
        "df_regular_season.head()"
      ]
    },
    {
      "cell_type": "code",
      "execution_count": null,
      "metadata": {
        "id": "lKc11IfAD181",
        "outputId": "b25f6cd5-9f91-4150-fc90-0dcf2520e679"
      },
      "outputs": [
        {
          "data": {
            "text/html": [
              "<div>\n",
              "<style scoped>\n",
              "    .dataframe tbody tr th:only-of-type {\n",
              "        vertical-align: middle;\n",
              "    }\n",
              "\n",
              "    .dataframe tbody tr th {\n",
              "        vertical-align: top;\n",
              "    }\n",
              "\n",
              "    .dataframe thead th {\n",
              "        text-align: right;\n",
              "    }\n",
              "</style>\n",
              "<table border=\"1\" class=\"dataframe\">\n",
              "  <thead>\n",
              "    <tr style=\"text-align: right;\">\n",
              "      <th></th>\n",
              "      <th>YEAR</th>\n",
              "      <th>PLAYER_ID</th>\n",
              "      <th>PLAYER_NAME</th>\n",
              "      <th>NICKNAME</th>\n",
              "      <th>TEAM_ID</th>\n",
              "      <th>TEAM_ABBREVIATION</th>\n",
              "      <th>AGE</th>\n",
              "      <th>GP</th>\n",
              "      <th>W</th>\n",
              "      <th>L</th>\n",
              "      <th>...</th>\n",
              "      <th>BLK_RANK</th>\n",
              "      <th>BLKA_RANK</th>\n",
              "      <th>PF_RANK</th>\n",
              "      <th>PFD_RANK</th>\n",
              "      <th>PTS_RANK</th>\n",
              "      <th>PLUS_MINUS_RANK</th>\n",
              "      <th>NBA_FANTASY_PTS_RANK</th>\n",
              "      <th>DD2_RANK</th>\n",
              "      <th>TD3_RANK</th>\n",
              "      <th>WNBA_FANTASY_PTS_RANK</th>\n",
              "    </tr>\n",
              "  </thead>\n",
              "  <tbody>\n",
              "    <tr>\n",
              "      <th>0</th>\n",
              "      <td>2019</td>\n",
              "      <td>203932</td>\n",
              "      <td>Aaron Gordon</td>\n",
              "      <td>Aaron</td>\n",
              "      <td>1610612753</td>\n",
              "      <td>ORL</td>\n",
              "      <td>23.0</td>\n",
              "      <td>5</td>\n",
              "      <td>1</td>\n",
              "      <td>4</td>\n",
              "      <td>...</td>\n",
              "      <td>96</td>\n",
              "      <td>92</td>\n",
              "      <td>133</td>\n",
              "      <td>46</td>\n",
              "      <td>72</td>\n",
              "      <td>207</td>\n",
              "      <td>79</td>\n",
              "      <td>32</td>\n",
              "      <td>7</td>\n",
              "      <td>75</td>\n",
              "    </tr>\n",
              "    <tr>\n",
              "      <th>1</th>\n",
              "      <td>2019</td>\n",
              "      <td>1628988</td>\n",
              "      <td>Aaron Holiday</td>\n",
              "      <td>Aaron</td>\n",
              "      <td>1610612754</td>\n",
              "      <td>IND</td>\n",
              "      <td>22.0</td>\n",
              "      <td>3</td>\n",
              "      <td>0</td>\n",
              "      <td>3</td>\n",
              "      <td>...</td>\n",
              "      <td>141</td>\n",
              "      <td>1</td>\n",
              "      <td>38</td>\n",
              "      <td>191</td>\n",
              "      <td>179</td>\n",
              "      <td>99</td>\n",
              "      <td>205</td>\n",
              "      <td>55</td>\n",
              "      <td>7</td>\n",
              "      <td>195</td>\n",
              "    </tr>\n",
              "    <tr>\n",
              "      <th>2</th>\n",
              "      <td>2019</td>\n",
              "      <td>1627846</td>\n",
              "      <td>Abdel Nader</td>\n",
              "      <td>Abdel</td>\n",
              "      <td>1610612760</td>\n",
              "      <td>OKC</td>\n",
              "      <td>25.0</td>\n",
              "      <td>3</td>\n",
              "      <td>1</td>\n",
              "      <td>2</td>\n",
              "      <td>...</td>\n",
              "      <td>96</td>\n",
              "      <td>1</td>\n",
              "      <td>1</td>\n",
              "      <td>191</td>\n",
              "      <td>197</td>\n",
              "      <td>94</td>\n",
              "      <td>200</td>\n",
              "      <td>55</td>\n",
              "      <td>7</td>\n",
              "      <td>202</td>\n",
              "    </tr>\n",
              "    <tr>\n",
              "      <th>3</th>\n",
              "      <td>2019</td>\n",
              "      <td>201143</td>\n",
              "      <td>Al Horford</td>\n",
              "      <td>Al</td>\n",
              "      <td>1610612738</td>\n",
              "      <td>BOS</td>\n",
              "      <td>33.0</td>\n",
              "      <td>9</td>\n",
              "      <td>5</td>\n",
              "      <td>4</td>\n",
              "      <td>...</td>\n",
              "      <td>33</td>\n",
              "      <td>151</td>\n",
              "      <td>150</td>\n",
              "      <td>68</td>\n",
              "      <td>45</td>\n",
              "      <td>37</td>\n",
              "      <td>36</td>\n",
              "      <td>14</td>\n",
              "      <td>7</td>\n",
              "      <td>37</td>\n",
              "    </tr>\n",
              "    <tr>\n",
              "      <th>4</th>\n",
              "      <td>2019</td>\n",
              "      <td>202329</td>\n",
              "      <td>Al-Farouq Aminu</td>\n",
              "      <td>Al-Farouq</td>\n",
              "      <td>1610612757</td>\n",
              "      <td>POR</td>\n",
              "      <td>28.0</td>\n",
              "      <td>16</td>\n",
              "      <td>8</td>\n",
              "      <td>8</td>\n",
              "      <td>...</td>\n",
              "      <td>23</td>\n",
              "      <td>193</td>\n",
              "      <td>177</td>\n",
              "      <td>43</td>\n",
              "      <td>50</td>\n",
              "      <td>147</td>\n",
              "      <td>35</td>\n",
              "      <td>32</td>\n",
              "      <td>7</td>\n",
              "      <td>36</td>\n",
              "    </tr>\n",
              "  </tbody>\n",
              "</table>\n",
              "<p>5 rows × 67 columns</p>\n",
              "</div>"
            ],
            "text/plain": [
              "   YEAR  PLAYER_ID      PLAYER_NAME   NICKNAME     TEAM_ID TEAM_ABBREVIATION  \\\n",
              "0  2019     203932     Aaron Gordon      Aaron  1610612753               ORL   \n",
              "1  2019    1628988    Aaron Holiday      Aaron  1610612754               IND   \n",
              "2  2019    1627846      Abdel Nader      Abdel  1610612760               OKC   \n",
              "3  2019     201143       Al Horford         Al  1610612738               BOS   \n",
              "4  2019     202329  Al-Farouq Aminu  Al-Farouq  1610612757               POR   \n",
              "\n",
              "    AGE  GP  W  L  ...  BLK_RANK  BLKA_RANK  PF_RANK  PFD_RANK  PTS_RANK  \\\n",
              "0  23.0   5  1  4  ...        96         92      133        46        72   \n",
              "1  22.0   3  0  3  ...       141          1       38       191       179   \n",
              "2  25.0   3  1  2  ...        96          1        1       191       197   \n",
              "3  33.0   9  5  4  ...        33        151      150        68        45   \n",
              "4  28.0  16  8  8  ...        23        193      177        43        50   \n",
              "\n",
              "   PLUS_MINUS_RANK  NBA_FANTASY_PTS_RANK  DD2_RANK  TD3_RANK  \\\n",
              "0              207                    79        32         7   \n",
              "1               99                   205        55         7   \n",
              "2               94                   200        55         7   \n",
              "3               37                    36        14         7   \n",
              "4              147                    35        32         7   \n",
              "\n",
              "   WNBA_FANTASY_PTS_RANK  \n",
              "0                     75  \n",
              "1                    195  \n",
              "2                    202  \n",
              "3                     37  \n",
              "4                     36  \n",
              "\n",
              "[5 rows x 67 columns]"
            ]
          },
          "execution_count": 7,
          "metadata": {},
          "output_type": "execute_result"
        }
      ],
      "source": [
        "# display the post season dataframes\n",
        "df_post_season.head()"
      ]
    },
    {
      "cell_type": "markdown",
      "metadata": {
        "id": "pHhwX3LoD181"
      },
      "source": [
        "First we want to see if there are any missing values for each data set that we have."
      ]
    },
    {
      "cell_type": "code",
      "execution_count": null,
      "metadata": {
        "id": "KpGJPS3ZD181",
        "outputId": "cf347734-3ed9-4b32-f11a-bbaf3ee59ab1"
      },
      "outputs": [
        {
          "name": "stdout",
          "output_type": "stream",
          "text": [
            "0\n",
            "0\n"
          ]
        }
      ],
      "source": [
        "null_val1=df_regular_season.isnull().any()\n",
        "null_val2=df_post_season.isnull().any()\n",
        "print(null_val1.sum())\n",
        "print(null_val2.sum())"
      ]
    },
    {
      "cell_type": "markdown",
      "metadata": {
        "id": "_qUOpS1sD181"
      },
      "source": [
        "The API nba_api that we used to generate the csv files have done a good job in handling tidy data; now we will drop the columns that are irrelevant for the analysis."
      ]
    },
    {
      "cell_type": "code",
      "execution_count": null,
      "metadata": {
        "id": "8zs17_THD181",
        "outputId": "2a3eed72-d519-4902-8f0b-458118b65559"
      },
      "outputs": [
        {
          "data": {
            "text/plain": [
              "Index(['GP_RANK', 'W_RANK', 'L_RANK', 'W_PCT_RANK', 'MIN_RANK', 'FGM_RANK',\n",
              "       'FGA_RANK', 'FG_PCT_RANK', 'FG3M_RANK', 'FG3A_RANK', 'FG3_PCT_RANK',\n",
              "       'FTM_RANK', 'FTA_RANK', 'FT_PCT_RANK', 'OREB_RANK', 'DREB_RANK',\n",
              "       'REB_RANK', 'AST_RANK', 'TOV_RANK', 'STL_RANK', 'BLK_RANK', 'BLKA_RANK',\n",
              "       'PF_RANK', 'PFD_RANK', 'PTS_RANK', 'PLUS_MINUS_RANK',\n",
              "       'NBA_FANTASY_PTS_RANK', 'DD2_RANK', 'TD3_RANK',\n",
              "       'WNBA_FANTASY_PTS_RANK'],\n",
              "      dtype='object')"
            ]
          },
          "execution_count": 9,
          "metadata": {},
          "output_type": "execute_result"
        }
      ],
      "source": [
        "df_regular_season.columns[37:]"
      ]
    },
    {
      "cell_type": "code",
      "execution_count": null,
      "metadata": {
        "id": "xQ6ILri9D181",
        "outputId": "e5428537-c673-4df9-8edc-5423df5cad5f"
      },
      "outputs": [
        {
          "data": {
            "text/plain": [
              "Index(['YEAR', 'PLAYER_ID', 'PLAYER_NAME', 'NICKNAME', 'TEAM_ID',\n",
              "       'TEAM_ABBREVIATION', 'AGE', 'GP', 'W', 'L', 'W_PCT', 'MIN', 'FGM',\n",
              "       'FGA', 'FG_PCT', 'FG3M', 'FG3A', 'FG3_PCT', 'FTM', 'FTA', 'FT_PCT',\n",
              "       'OREB', 'DREB', 'REB', 'AST', 'TOV', 'STL', 'BLK', 'BLKA', 'PF', 'PFD',\n",
              "       'PTS', 'PLUS_MINUS', 'NBA_FANTASY_PTS', 'DD2', 'TD3',\n",
              "       'WNBA_FANTASY_PTS', 'GP_RANK', 'W_RANK', 'L_RANK', 'W_PCT_RANK',\n",
              "       'MIN_RANK', 'FGM_RANK', 'FGA_RANK', 'FG_PCT_RANK', 'FG3M_RANK',\n",
              "       'FG3A_RANK', 'FG3_PCT_RANK', 'FTM_RANK', 'FTA_RANK', 'FT_PCT_RANK',\n",
              "       'OREB_RANK', 'DREB_RANK', 'REB_RANK', 'AST_RANK', 'TOV_RANK',\n",
              "       'STL_RANK', 'BLK_RANK', 'BLKA_RANK', 'PF_RANK', 'PFD_RANK', 'PTS_RANK',\n",
              "       'PLUS_MINUS_RANK', 'NBA_FANTASY_PTS_RANK', 'DD2_RANK', 'TD3_RANK',\n",
              "       'WNBA_FANTASY_PTS_RANK'],\n",
              "      dtype='object')"
            ]
          },
          "execution_count": 10,
          "metadata": {},
          "output_type": "execute_result"
        }
      ],
      "source": [
        "df_regular_season.columns"
      ]
    },
    {
      "cell_type": "code",
      "execution_count": null,
      "metadata": {
        "id": "-0ZiNpLYD181"
      },
      "outputs": [],
      "source": [
        "df_regular_season=df_regular_season.iloc[:,:37]\n",
        "df_post_season=df_post_season.iloc[:,:37]\n",
        "columns_to_drop=['PLAYER_NAME','NICKNAME','TEAM_ID','TEAM_ABBREVIATION']\n",
        "df_regular_season=df_regular_season.drop(labels=columns_to_drop, axis = 'columns')\n",
        "df_post_season=df_post_season.drop(labels=columns_to_drop, axis = 'columns')"
      ]
    },
    {
      "cell_type": "markdown",
      "metadata": {
        "id": "m-iAY4u7D181"
      },
      "source": [
        "Next, we want to change the total points earned during the season to points per game and total minutes to minutes per game for better analysis:"
      ]
    },
    {
      "cell_type": "code",
      "execution_count": null,
      "metadata": {
        "id": "n4Q-VsolD181"
      },
      "outputs": [],
      "source": [
        "df_regular_season['PTS']=df_regular_season['PTS']/df_regular_season['GP']\n",
        "df_regular_season['MIN']=df_regular_season['MIN']/df_regular_season['GP']\n",
        "df_post_season['PTS']=df_post_season['PTS']/df_post_season['GP']\n",
        "df_post_season['MIN']=df_post_season['MIN']/df_post_season['GP']"
      ]
    },
    {
      "cell_type": "code",
      "execution_count": null,
      "metadata": {
        "id": "74RigB_-D182",
        "outputId": "01e13bac-0094-46ef-a1c0-35e567443cce"
      },
      "outputs": [
        {
          "data": {
            "text/html": [
              "<div>\n",
              "<style scoped>\n",
              "    .dataframe tbody tr th:only-of-type {\n",
              "        vertical-align: middle;\n",
              "    }\n",
              "\n",
              "    .dataframe tbody tr th {\n",
              "        vertical-align: top;\n",
              "    }\n",
              "\n",
              "    .dataframe thead th {\n",
              "        text-align: right;\n",
              "    }\n",
              "</style>\n",
              "<table border=\"1\" class=\"dataframe\">\n",
              "  <thead>\n",
              "    <tr style=\"text-align: right;\">\n",
              "      <th></th>\n",
              "      <th>YEAR</th>\n",
              "      <th>PLAYER_ID</th>\n",
              "      <th>AGE</th>\n",
              "      <th>GP</th>\n",
              "      <th>W</th>\n",
              "      <th>L</th>\n",
              "      <th>W_PCT</th>\n",
              "      <th>MIN</th>\n",
              "      <th>FGM</th>\n",
              "      <th>FGA</th>\n",
              "      <th>...</th>\n",
              "      <th>BLK</th>\n",
              "      <th>BLKA</th>\n",
              "      <th>PF</th>\n",
              "      <th>PFD</th>\n",
              "      <th>PTS</th>\n",
              "      <th>PLUS_MINUS</th>\n",
              "      <th>NBA_FANTASY_PTS</th>\n",
              "      <th>DD2</th>\n",
              "      <th>TD3</th>\n",
              "      <th>WNBA_FANTASY_PTS</th>\n",
              "    </tr>\n",
              "  </thead>\n",
              "  <tbody>\n",
              "    <tr>\n",
              "      <th>0</th>\n",
              "      <td>2019</td>\n",
              "      <td>203932</td>\n",
              "      <td>23.0</td>\n",
              "      <td>78</td>\n",
              "      <td>40</td>\n",
              "      <td>38</td>\n",
              "      <td>0.513</td>\n",
              "      <td>33.750427</td>\n",
              "      <td>470</td>\n",
              "      <td>1046</td>\n",
              "      <td>...</td>\n",
              "      <td>56</td>\n",
              "      <td>52</td>\n",
              "      <td>172</td>\n",
              "      <td>262</td>\n",
              "      <td>15.974359</td>\n",
              "      <td>107</td>\n",
              "      <td>2545.3</td>\n",
              "      <td>19</td>\n",
              "      <td>0</td>\n",
              "      <td>2456.0</td>\n",
              "    </tr>\n",
              "    <tr>\n",
              "      <th>1</th>\n",
              "      <td>2019</td>\n",
              "      <td>1628988</td>\n",
              "      <td>22.0</td>\n",
              "      <td>50</td>\n",
              "      <td>31</td>\n",
              "      <td>19</td>\n",
              "      <td>0.620</td>\n",
              "      <td>12.916600</td>\n",
              "      <td>105</td>\n",
              "      <td>262</td>\n",
              "      <td>...</td>\n",
              "      <td>13</td>\n",
              "      <td>12</td>\n",
              "      <td>71</td>\n",
              "      <td>58</td>\n",
              "      <td>5.880000</td>\n",
              "      <td>102</td>\n",
              "      <td>566.9</td>\n",
              "      <td>0</td>\n",
              "      <td>0</td>\n",
              "      <td>559.0</td>\n",
              "    </tr>\n",
              "    <tr>\n",
              "      <th>2</th>\n",
              "      <td>2019</td>\n",
              "      <td>1627846</td>\n",
              "      <td>25.0</td>\n",
              "      <td>61</td>\n",
              "      <td>38</td>\n",
              "      <td>23</td>\n",
              "      <td>0.623</td>\n",
              "      <td>11.371421</td>\n",
              "      <td>91</td>\n",
              "      <td>215</td>\n",
              "      <td>...</td>\n",
              "      <td>12</td>\n",
              "      <td>8</td>\n",
              "      <td>68</td>\n",
              "      <td>35</td>\n",
              "      <td>3.950820</td>\n",
              "      <td>-154</td>\n",
              "      <td>480.2</td>\n",
              "      <td>0</td>\n",
              "      <td>0</td>\n",
              "      <td>473.0</td>\n",
              "    </tr>\n",
              "    <tr>\n",
              "      <th>3</th>\n",
              "      <td>2019</td>\n",
              "      <td>201143</td>\n",
              "      <td>33.0</td>\n",
              "      <td>68</td>\n",
              "      <td>41</td>\n",
              "      <td>27</td>\n",
              "      <td>0.603</td>\n",
              "      <td>29.010049</td>\n",
              "      <td>387</td>\n",
              "      <td>723</td>\n",
              "      <td>...</td>\n",
              "      <td>86</td>\n",
              "      <td>29</td>\n",
              "      <td>126</td>\n",
              "      <td>121</td>\n",
              "      <td>13.602941</td>\n",
              "      <td>258</td>\n",
              "      <td>2232.1</td>\n",
              "      <td>10</td>\n",
              "      <td>1</td>\n",
              "      <td>2029.0</td>\n",
              "    </tr>\n",
              "    <tr>\n",
              "      <th>4</th>\n",
              "      <td>2019</td>\n",
              "      <td>202329</td>\n",
              "      <td>28.0</td>\n",
              "      <td>81</td>\n",
              "      <td>52</td>\n",
              "      <td>29</td>\n",
              "      <td>0.642</td>\n",
              "      <td>28.292572</td>\n",
              "      <td>257</td>\n",
              "      <td>593</td>\n",
              "      <td>...</td>\n",
              "      <td>33</td>\n",
              "      <td>29</td>\n",
              "      <td>143</td>\n",
              "      <td>148</td>\n",
              "      <td>9.382716</td>\n",
              "      <td>384</td>\n",
              "      <td>1879.0</td>\n",
              "      <td>12</td>\n",
              "      <td>0</td>\n",
              "      <td>1772.0</td>\n",
              "    </tr>\n",
              "    <tr>\n",
              "      <th>...</th>\n",
              "      <td>...</td>\n",
              "      <td>...</td>\n",
              "      <td>...</td>\n",
              "      <td>...</td>\n",
              "      <td>...</td>\n",
              "      <td>...</td>\n",
              "      <td>...</td>\n",
              "      <td>...</td>\n",
              "      <td>...</td>\n",
              "      <td>...</td>\n",
              "      <td>...</td>\n",
              "      <td>...</td>\n",
              "      <td>...</td>\n",
              "      <td>...</td>\n",
              "      <td>...</td>\n",
              "      <td>...</td>\n",
              "      <td>...</td>\n",
              "      <td>...</td>\n",
              "      <td>...</td>\n",
              "      <td>...</td>\n",
              "      <td>...</td>\n",
              "    </tr>\n",
              "    <tr>\n",
              "      <th>1594</th>\n",
              "      <td>2021</td>\n",
              "      <td>1627812</td>\n",
              "      <td>28.0</td>\n",
              "      <td>10</td>\n",
              "      <td>4</td>\n",
              "      <td>6</td>\n",
              "      <td>0.400</td>\n",
              "      <td>13.698167</td>\n",
              "      <td>20</td>\n",
              "      <td>57</td>\n",
              "      <td>...</td>\n",
              "      <td>3</td>\n",
              "      <td>6</td>\n",
              "      <td>11</td>\n",
              "      <td>14</td>\n",
              "      <td>5.600000</td>\n",
              "      <td>-1</td>\n",
              "      <td>138.8</td>\n",
              "      <td>0</td>\n",
              "      <td>0</td>\n",
              "      <td>126.0</td>\n",
              "    </tr>\n",
              "    <tr>\n",
              "      <th>1595</th>\n",
              "      <td>2021</td>\n",
              "      <td>1629139</td>\n",
              "      <td>26.0</td>\n",
              "      <td>50</td>\n",
              "      <td>24</td>\n",
              "      <td>26</td>\n",
              "      <td>0.480</td>\n",
              "      <td>14.456467</td>\n",
              "      <td>79</td>\n",
              "      <td>180</td>\n",
              "      <td>...</td>\n",
              "      <td>19</td>\n",
              "      <td>9</td>\n",
              "      <td>57</td>\n",
              "      <td>34</td>\n",
              "      <td>4.360000</td>\n",
              "      <td>-41</td>\n",
              "      <td>584.8</td>\n",
              "      <td>0</td>\n",
              "      <td>0</td>\n",
              "      <td>543.0</td>\n",
              "    </tr>\n",
              "    <tr>\n",
              "      <th>1596</th>\n",
              "      <td>2021</td>\n",
              "      <td>203897</td>\n",
              "      <td>26.0</td>\n",
              "      <td>58</td>\n",
              "      <td>26</td>\n",
              "      <td>32</td>\n",
              "      <td>0.448</td>\n",
              "      <td>35.062529</td>\n",
              "      <td>569</td>\n",
              "      <td>1123</td>\n",
              "      <td>...</td>\n",
              "      <td>27</td>\n",
              "      <td>67</td>\n",
              "      <td>138</td>\n",
              "      <td>233</td>\n",
              "      <td>27.431034</td>\n",
              "      <td>-9</td>\n",
              "      <td>2376.8</td>\n",
              "      <td>3</td>\n",
              "      <td>0</td>\n",
              "      <td>2508.0</td>\n",
              "    </tr>\n",
              "    <tr>\n",
              "      <th>1597</th>\n",
              "      <td>2021</td>\n",
              "      <td>1630192</td>\n",
              "      <td>20.0</td>\n",
              "      <td>42</td>\n",
              "      <td>30</td>\n",
              "      <td>12</td>\n",
              "      <td>0.714</td>\n",
              "      <td>9.459008</td>\n",
              "      <td>50</td>\n",
              "      <td>104</td>\n",
              "      <td>...</td>\n",
              "      <td>4</td>\n",
              "      <td>8</td>\n",
              "      <td>29</td>\n",
              "      <td>15</td>\n",
              "      <td>3.238095</td>\n",
              "      <td>-82</td>\n",
              "      <td>258.0</td>\n",
              "      <td>0</td>\n",
              "      <td>0</td>\n",
              "      <td>259.0</td>\n",
              "    </tr>\n",
              "    <tr>\n",
              "      <th>1598</th>\n",
              "      <td>2021</td>\n",
              "      <td>1629627</td>\n",
              "      <td>20.0</td>\n",
              "      <td>61</td>\n",
              "      <td>29</td>\n",
              "      <td>32</td>\n",
              "      <td>0.475</td>\n",
              "      <td>33.211311</td>\n",
              "      <td>634</td>\n",
              "      <td>1037</td>\n",
              "      <td>...</td>\n",
              "      <td>39</td>\n",
              "      <td>131</td>\n",
              "      <td>135</td>\n",
              "      <td>366</td>\n",
              "      <td>27.000000</td>\n",
              "      <td>89</td>\n",
              "      <td>2636.2</td>\n",
              "      <td>14</td>\n",
              "      <td>0</td>\n",
              "      <td>2516.0</td>\n",
              "    </tr>\n",
              "  </tbody>\n",
              "</table>\n",
              "<p>1599 rows × 33 columns</p>\n",
              "</div>"
            ],
            "text/plain": [
              "      YEAR  PLAYER_ID   AGE  GP   W   L  W_PCT        MIN  FGM   FGA  ...  \\\n",
              "0     2019     203932  23.0  78  40  38  0.513  33.750427  470  1046  ...   \n",
              "1     2019    1628988  22.0  50  31  19  0.620  12.916600  105   262  ...   \n",
              "2     2019    1627846  25.0  61  38  23  0.623  11.371421   91   215  ...   \n",
              "3     2019     201143  33.0  68  41  27  0.603  29.010049  387   723  ...   \n",
              "4     2019     202329  28.0  81  52  29  0.642  28.292572  257   593  ...   \n",
              "...    ...        ...   ...  ..  ..  ..    ...        ...  ...   ...  ...   \n",
              "1594  2021    1627812  28.0  10   4   6  0.400  13.698167   20    57  ...   \n",
              "1595  2021    1629139  26.0  50  24  26  0.480  14.456467   79   180  ...   \n",
              "1596  2021     203897  26.0  58  26  32  0.448  35.062529  569  1123  ...   \n",
              "1597  2021    1630192  20.0  42  30  12  0.714   9.459008   50   104  ...   \n",
              "1598  2021    1629627  20.0  61  29  32  0.475  33.211311  634  1037  ...   \n",
              "\n",
              "      BLK  BLKA   PF  PFD        PTS  PLUS_MINUS  NBA_FANTASY_PTS  DD2  TD3  \\\n",
              "0      56    52  172  262  15.974359         107           2545.3   19    0   \n",
              "1      13    12   71   58   5.880000         102            566.9    0    0   \n",
              "2      12     8   68   35   3.950820        -154            480.2    0    0   \n",
              "3      86    29  126  121  13.602941         258           2232.1   10    1   \n",
              "4      33    29  143  148   9.382716         384           1879.0   12    0   \n",
              "...   ...   ...  ...  ...        ...         ...              ...  ...  ...   \n",
              "1594    3     6   11   14   5.600000          -1            138.8    0    0   \n",
              "1595   19     9   57   34   4.360000         -41            584.8    0    0   \n",
              "1596   27    67  138  233  27.431034          -9           2376.8    3    0   \n",
              "1597    4     8   29   15   3.238095         -82            258.0    0    0   \n",
              "1598   39   131  135  366  27.000000          89           2636.2   14    0   \n",
              "\n",
              "      WNBA_FANTASY_PTS  \n",
              "0               2456.0  \n",
              "1                559.0  \n",
              "2                473.0  \n",
              "3               2029.0  \n",
              "4               1772.0  \n",
              "...                ...  \n",
              "1594             126.0  \n",
              "1595             543.0  \n",
              "1596            2508.0  \n",
              "1597             259.0  \n",
              "1598            2516.0  \n",
              "\n",
              "[1599 rows x 33 columns]"
            ]
          },
          "execution_count": 13,
          "metadata": {},
          "output_type": "execute_result"
        }
      ],
      "source": [
        "df_regular_season"
      ]
    },
    {
      "cell_type": "code",
      "execution_count": null,
      "metadata": {
        "id": "ULHHF71ZD182",
        "outputId": "5e4d2685-bddd-4e9d-fd60-3ef40710a748"
      },
      "outputs": [
        {
          "data": {
            "text/html": [
              "<div>\n",
              "<style scoped>\n",
              "    .dataframe tbody tr th:only-of-type {\n",
              "        vertical-align: middle;\n",
              "    }\n",
              "\n",
              "    .dataframe tbody tr th {\n",
              "        vertical-align: top;\n",
              "    }\n",
              "\n",
              "    .dataframe thead th {\n",
              "        text-align: right;\n",
              "    }\n",
              "</style>\n",
              "<table border=\"1\" class=\"dataframe\">\n",
              "  <thead>\n",
              "    <tr style=\"text-align: right;\">\n",
              "      <th></th>\n",
              "      <th>YEAR</th>\n",
              "      <th>PLAYER_ID</th>\n",
              "      <th>AGE</th>\n",
              "      <th>GP</th>\n",
              "      <th>W</th>\n",
              "      <th>L</th>\n",
              "      <th>W_PCT</th>\n",
              "      <th>MIN</th>\n",
              "      <th>FGM</th>\n",
              "      <th>FGA</th>\n",
              "      <th>...</th>\n",
              "      <th>BLK</th>\n",
              "      <th>BLKA</th>\n",
              "      <th>PF</th>\n",
              "      <th>PFD</th>\n",
              "      <th>PTS</th>\n",
              "      <th>PLUS_MINUS</th>\n",
              "      <th>NBA_FANTASY_PTS</th>\n",
              "      <th>DD2</th>\n",
              "      <th>TD3</th>\n",
              "      <th>WNBA_FANTASY_PTS</th>\n",
              "    </tr>\n",
              "  </thead>\n",
              "  <tbody>\n",
              "    <tr>\n",
              "      <th>0</th>\n",
              "      <td>2019</td>\n",
              "      <td>203932</td>\n",
              "      <td>23.0</td>\n",
              "      <td>5</td>\n",
              "      <td>1</td>\n",
              "      <td>4</td>\n",
              "      <td>0.200</td>\n",
              "      <td>32.763333</td>\n",
              "      <td>29</td>\n",
              "      <td>62</td>\n",
              "      <td>...</td>\n",
              "      <td>1</td>\n",
              "      <td>2</td>\n",
              "      <td>16</td>\n",
              "      <td>23</td>\n",
              "      <td>15.200000</td>\n",
              "      <td>-79</td>\n",
              "      <td>154.2</td>\n",
              "      <td>1</td>\n",
              "      <td>0</td>\n",
              "      <td>152.0</td>\n",
              "    </tr>\n",
              "    <tr>\n",
              "      <th>1</th>\n",
              "      <td>2019</td>\n",
              "      <td>1628988</td>\n",
              "      <td>22.0</td>\n",
              "      <td>3</td>\n",
              "      <td>0</td>\n",
              "      <td>3</td>\n",
              "      <td>0.000</td>\n",
              "      <td>4.494444</td>\n",
              "      <td>2</td>\n",
              "      <td>5</td>\n",
              "      <td>...</td>\n",
              "      <td>0</td>\n",
              "      <td>0</td>\n",
              "      <td>3</td>\n",
              "      <td>0</td>\n",
              "      <td>1.666667</td>\n",
              "      <td>-3</td>\n",
              "      <td>4.0</td>\n",
              "      <td>0</td>\n",
              "      <td>0</td>\n",
              "      <td>6.0</td>\n",
              "    </tr>\n",
              "    <tr>\n",
              "      <th>2</th>\n",
              "      <td>2019</td>\n",
              "      <td>1627846</td>\n",
              "      <td>25.0</td>\n",
              "      <td>3</td>\n",
              "      <td>1</td>\n",
              "      <td>2</td>\n",
              "      <td>0.333</td>\n",
              "      <td>1.580000</td>\n",
              "      <td>1</td>\n",
              "      <td>2</td>\n",
              "      <td>...</td>\n",
              "      <td>1</td>\n",
              "      <td>0</td>\n",
              "      <td>0</td>\n",
              "      <td>0</td>\n",
              "      <td>0.666667</td>\n",
              "      <td>-2</td>\n",
              "      <td>5.0</td>\n",
              "      <td>0</td>\n",
              "      <td>0</td>\n",
              "      <td>4.0</td>\n",
              "    </tr>\n",
              "    <tr>\n",
              "      <th>3</th>\n",
              "      <td>2019</td>\n",
              "      <td>201143</td>\n",
              "      <td>33.0</td>\n",
              "      <td>9</td>\n",
              "      <td>5</td>\n",
              "      <td>4</td>\n",
              "      <td>0.556</td>\n",
              "      <td>34.460185</td>\n",
              "      <td>46</td>\n",
              "      <td>110</td>\n",
              "      <td>...</td>\n",
              "      <td>7</td>\n",
              "      <td>5</td>\n",
              "      <td>21</td>\n",
              "      <td>18</td>\n",
              "      <td>13.888889</td>\n",
              "      <td>28</td>\n",
              "      <td>296.2</td>\n",
              "      <td>3</td>\n",
              "      <td>0</td>\n",
              "      <td>286.0</td>\n",
              "    </tr>\n",
              "    <tr>\n",
              "      <th>4</th>\n",
              "      <td>2019</td>\n",
              "      <td>202329</td>\n",
              "      <td>28.0</td>\n",
              "      <td>16</td>\n",
              "      <td>8</td>\n",
              "      <td>8</td>\n",
              "      <td>0.500</td>\n",
              "      <td>24.946979</td>\n",
              "      <td>38</td>\n",
              "      <td>109</td>\n",
              "      <td>...</td>\n",
              "      <td>10</td>\n",
              "      <td>11</td>\n",
              "      <td>34</td>\n",
              "      <td>25</td>\n",
              "      <td>7.375000</td>\n",
              "      <td>-20</td>\n",
              "      <td>310.5</td>\n",
              "      <td>1</td>\n",
              "      <td>0</td>\n",
              "      <td>292.0</td>\n",
              "    </tr>\n",
              "    <tr>\n",
              "      <th>...</th>\n",
              "      <td>...</td>\n",
              "      <td>...</td>\n",
              "      <td>...</td>\n",
              "      <td>...</td>\n",
              "      <td>...</td>\n",
              "      <td>...</td>\n",
              "      <td>...</td>\n",
              "      <td>...</td>\n",
              "      <td>...</td>\n",
              "      <td>...</td>\n",
              "      <td>...</td>\n",
              "      <td>...</td>\n",
              "      <td>...</td>\n",
              "      <td>...</td>\n",
              "      <td>...</td>\n",
              "      <td>...</td>\n",
              "      <td>...</td>\n",
              "      <td>...</td>\n",
              "      <td>...</td>\n",
              "      <td>...</td>\n",
              "      <td>...</td>\n",
              "    </tr>\n",
              "    <tr>\n",
              "      <th>663</th>\n",
              "      <td>2021</td>\n",
              "      <td>203115</td>\n",
              "      <td>30.0</td>\n",
              "      <td>3</td>\n",
              "      <td>0</td>\n",
              "      <td>3</td>\n",
              "      <td>0.000</td>\n",
              "      <td>27.700000</td>\n",
              "      <td>19</td>\n",
              "      <td>43</td>\n",
              "      <td>...</td>\n",
              "      <td>1</td>\n",
              "      <td>1</td>\n",
              "      <td>4</td>\n",
              "      <td>4</td>\n",
              "      <td>16.333333</td>\n",
              "      <td>0</td>\n",
              "      <td>81.6</td>\n",
              "      <td>0</td>\n",
              "      <td>0</td>\n",
              "      <td>83.0</td>\n",
              "    </tr>\n",
              "    <tr>\n",
              "      <th>664</th>\n",
              "      <td>2021</td>\n",
              "      <td>1626161</td>\n",
              "      <td>27.0</td>\n",
              "      <td>6</td>\n",
              "      <td>3</td>\n",
              "      <td>3</td>\n",
              "      <td>0.500</td>\n",
              "      <td>10.474722</td>\n",
              "      <td>6</td>\n",
              "      <td>9</td>\n",
              "      <td>...</td>\n",
              "      <td>4</td>\n",
              "      <td>1</td>\n",
              "      <td>8</td>\n",
              "      <td>5</td>\n",
              "      <td>2.500000</td>\n",
              "      <td>-27</td>\n",
              "      <td>53.7</td>\n",
              "      <td>0</td>\n",
              "      <td>0</td>\n",
              "      <td>46.0</td>\n",
              "    </tr>\n",
              "    <tr>\n",
              "      <th>665</th>\n",
              "      <td>2021</td>\n",
              "      <td>1630214</td>\n",
              "      <td>22.0</td>\n",
              "      <td>3</td>\n",
              "      <td>1</td>\n",
              "      <td>2</td>\n",
              "      <td>0.333</td>\n",
              "      <td>5.905556</td>\n",
              "      <td>1</td>\n",
              "      <td>5</td>\n",
              "      <td>...</td>\n",
              "      <td>0</td>\n",
              "      <td>1</td>\n",
              "      <td>2</td>\n",
              "      <td>1</td>\n",
              "      <td>0.666667</td>\n",
              "      <td>-14</td>\n",
              "      <td>9.1</td>\n",
              "      <td>0</td>\n",
              "      <td>0</td>\n",
              "      <td>8.0</td>\n",
              "    </tr>\n",
              "    <tr>\n",
              "      <th>666</th>\n",
              "      <td>2021</td>\n",
              "      <td>1627812</td>\n",
              "      <td>28.0</td>\n",
              "      <td>9</td>\n",
              "      <td>8</td>\n",
              "      <td>1</td>\n",
              "      <td>0.889</td>\n",
              "      <td>1.614630</td>\n",
              "      <td>2</td>\n",
              "      <td>5</td>\n",
              "      <td>...</td>\n",
              "      <td>0</td>\n",
              "      <td>0</td>\n",
              "      <td>0</td>\n",
              "      <td>0</td>\n",
              "      <td>0.444444</td>\n",
              "      <td>-2</td>\n",
              "      <td>12.1</td>\n",
              "      <td>0</td>\n",
              "      <td>0</td>\n",
              "      <td>10.0</td>\n",
              "    </tr>\n",
              "    <tr>\n",
              "      <th>667</th>\n",
              "      <td>2021</td>\n",
              "      <td>1630192</td>\n",
              "      <td>20.0</td>\n",
              "      <td>5</td>\n",
              "      <td>1</td>\n",
              "      <td>4</td>\n",
              "      <td>0.200</td>\n",
              "      <td>3.530000</td>\n",
              "      <td>4</td>\n",
              "      <td>8</td>\n",
              "      <td>...</td>\n",
              "      <td>0</td>\n",
              "      <td>0</td>\n",
              "      <td>1</td>\n",
              "      <td>1</td>\n",
              "      <td>2.400000</td>\n",
              "      <td>9</td>\n",
              "      <td>20.4</td>\n",
              "      <td>0</td>\n",
              "      <td>0</td>\n",
              "      <td>21.0</td>\n",
              "    </tr>\n",
              "  </tbody>\n",
              "</table>\n",
              "<p>668 rows × 33 columns</p>\n",
              "</div>"
            ],
            "text/plain": [
              "     YEAR  PLAYER_ID   AGE  GP  W  L  W_PCT        MIN  FGM  FGA  ...  BLK  \\\n",
              "0    2019     203932  23.0   5  1  4  0.200  32.763333   29   62  ...    1   \n",
              "1    2019    1628988  22.0   3  0  3  0.000   4.494444    2    5  ...    0   \n",
              "2    2019    1627846  25.0   3  1  2  0.333   1.580000    1    2  ...    1   \n",
              "3    2019     201143  33.0   9  5  4  0.556  34.460185   46  110  ...    7   \n",
              "4    2019     202329  28.0  16  8  8  0.500  24.946979   38  109  ...   10   \n",
              "..    ...        ...   ...  .. .. ..    ...        ...  ...  ...  ...  ...   \n",
              "663  2021     203115  30.0   3  0  3  0.000  27.700000   19   43  ...    1   \n",
              "664  2021    1626161  27.0   6  3  3  0.500  10.474722    6    9  ...    4   \n",
              "665  2021    1630214  22.0   3  1  2  0.333   5.905556    1    5  ...    0   \n",
              "666  2021    1627812  28.0   9  8  1  0.889   1.614630    2    5  ...    0   \n",
              "667  2021    1630192  20.0   5  1  4  0.200   3.530000    4    8  ...    0   \n",
              "\n",
              "     BLKA  PF  PFD        PTS  PLUS_MINUS  NBA_FANTASY_PTS  DD2  TD3  \\\n",
              "0       2  16   23  15.200000         -79            154.2    1    0   \n",
              "1       0   3    0   1.666667          -3              4.0    0    0   \n",
              "2       0   0    0   0.666667          -2              5.0    0    0   \n",
              "3       5  21   18  13.888889          28            296.2    3    0   \n",
              "4      11  34   25   7.375000         -20            310.5    1    0   \n",
              "..    ...  ..  ...        ...         ...              ...  ...  ...   \n",
              "663     1   4    4  16.333333           0             81.6    0    0   \n",
              "664     1   8    5   2.500000         -27             53.7    0    0   \n",
              "665     1   2    1   0.666667         -14              9.1    0    0   \n",
              "666     0   0    0   0.444444          -2             12.1    0    0   \n",
              "667     0   1    1   2.400000           9             20.4    0    0   \n",
              "\n",
              "     WNBA_FANTASY_PTS  \n",
              "0               152.0  \n",
              "1                 6.0  \n",
              "2                 4.0  \n",
              "3               286.0  \n",
              "4               292.0  \n",
              "..                ...  \n",
              "663              83.0  \n",
              "664              46.0  \n",
              "665               8.0  \n",
              "666              10.0  \n",
              "667              21.0  \n",
              "\n",
              "[668 rows x 33 columns]"
            ]
          },
          "execution_count": 14,
          "metadata": {},
          "output_type": "execute_result"
        }
      ],
      "source": [
        "df_post_season"
      ]
    },
    {
      "cell_type": "markdown",
      "metadata": {
        "id": "xojqBdMmD182"
      },
      "source": [
        "# Results"
      ]
    },
    {
      "cell_type": "markdown",
      "metadata": {
        "id": "jPw3LZXDD182"
      },
      "source": [
        "## Descriptive Analysis\n",
        "\n",
        "Currently, our composite dataframe for main seasons 2018-2019, 2019-2020, and 2020-2021 has 1599 rows (player entries) and 32 columns, while our composite dataframe for the postseasons (playoffs) 2018-2019, 2019-2020, and 2020-2021 has 668 rows (player entries) and 32 columns. There are no missing values in any of our datasets, as we checked prior as part of our data wrangling process."
      ]
    },
    {
      "cell_type": "code",
      "execution_count": null,
      "metadata": {
        "id": "Sc8-Y8ebD182",
        "outputId": "e92b9027-be41-4cd3-ca62-dd6ce9881330"
      },
      "outputs": [
        {
          "name": "stdout",
          "output_type": "stream",
          "text": [
            "(1599, 33)\n",
            "(668, 33)\n"
          ]
        }
      ],
      "source": [
        "print(df_regular_season.shape)\n",
        "print(df_post_season.shape)"
      ]
    },
    {
      "cell_type": "markdown",
      "metadata": {
        "id": "9iFg3z9ZD182"
      },
      "source": [
        "Here we describe the provided player statistics from the regular and post seasons from 2018-2021. Just to review:\n",
        "- **YEAR** is the year of that season\n",
        "- **PTS** is points per game\n",
        "- **MIN** is minutes per game\n",
        "- **FG_PCT** is field goal percentage\n",
        "- **PLUS_MINUS** reflects team performance while that player is on the court, measured in terms of points against (+) or towards (-) the opponent\n",
        "- **STL** is the number of steals\n",
        "- **BLK** is the number of blocks"
      ]
    },
    {
      "cell_type": "code",
      "execution_count": null,
      "metadata": {
        "id": "kWcmhg3HD182",
        "outputId": "d7d4ef79-000d-4b64-dcf0-80f78f25d45c"
      },
      "outputs": [
        {
          "data": {
            "text/html": [
              "<div>\n",
              "<style scoped>\n",
              "    .dataframe tbody tr th:only-of-type {\n",
              "        vertical-align: middle;\n",
              "    }\n",
              "\n",
              "    .dataframe tbody tr th {\n",
              "        vertical-align: top;\n",
              "    }\n",
              "\n",
              "    .dataframe thead th {\n",
              "        text-align: right;\n",
              "    }\n",
              "</style>\n",
              "<table border=\"1\" class=\"dataframe\">\n",
              "  <thead>\n",
              "    <tr style=\"text-align: right;\">\n",
              "      <th></th>\n",
              "      <th>YEAR</th>\n",
              "      <th>PTS</th>\n",
              "      <th>MIN</th>\n",
              "      <th>FG_PCT</th>\n",
              "      <th>PLUS_MINUS</th>\n",
              "      <th>STL</th>\n",
              "      <th>BLK</th>\n",
              "    </tr>\n",
              "  </thead>\n",
              "  <tbody>\n",
              "    <tr>\n",
              "      <th>count</th>\n",
              "      <td>1599.000000</td>\n",
              "      <td>1599.000000</td>\n",
              "      <td>1599.000000</td>\n",
              "      <td>1599.000000</td>\n",
              "      <td>1599.000000</td>\n",
              "      <td>1599.00000</td>\n",
              "      <td>1599.000000</td>\n",
              "    </tr>\n",
              "    <tr>\n",
              "      <th>mean</th>\n",
              "      <td>2020.006254</td>\n",
              "      <td>8.761570</td>\n",
              "      <td>19.563602</td>\n",
              "      <td>0.443966</td>\n",
              "      <td>0.000000</td>\n",
              "      <td>32.10444</td>\n",
              "      <td>20.692308</td>\n",
              "    </tr>\n",
              "    <tr>\n",
              "      <th>std</th>\n",
              "      <td>0.818259</td>\n",
              "      <td>6.322669</td>\n",
              "      <td>9.209672</td>\n",
              "      <td>0.109955</td>\n",
              "      <td>152.766798</td>\n",
              "      <td>28.27391</td>\n",
              "      <td>25.772527</td>\n",
              "    </tr>\n",
              "    <tr>\n",
              "      <th>min</th>\n",
              "      <td>2019.000000</td>\n",
              "      <td>0.000000</td>\n",
              "      <td>0.623333</td>\n",
              "      <td>0.000000</td>\n",
              "      <td>-672.000000</td>\n",
              "      <td>0.00000</td>\n",
              "      <td>0.000000</td>\n",
              "    </tr>\n",
              "    <tr>\n",
              "      <th>25%</th>\n",
              "      <td>2019.000000</td>\n",
              "      <td>4.043403</td>\n",
              "      <td>12.253924</td>\n",
              "      <td>0.402000</td>\n",
              "      <td>-69.000000</td>\n",
              "      <td>8.00000</td>\n",
              "      <td>4.000000</td>\n",
              "    </tr>\n",
              "    <tr>\n",
              "      <th>50%</th>\n",
              "      <td>2020.000000</td>\n",
              "      <td>7.142857</td>\n",
              "      <td>19.298627</td>\n",
              "      <td>0.440000</td>\n",
              "      <td>-9.000000</td>\n",
              "      <td>26.00000</td>\n",
              "      <td>12.000000</td>\n",
              "    </tr>\n",
              "    <tr>\n",
              "      <th>75%</th>\n",
              "      <td>2021.000000</td>\n",
              "      <td>11.968636</td>\n",
              "      <td>27.415050</td>\n",
              "      <td>0.491000</td>\n",
              "      <td>47.000000</td>\n",
              "      <td>49.00000</td>\n",
              "      <td>28.000000</td>\n",
              "    </tr>\n",
              "    <tr>\n",
              "      <th>max</th>\n",
              "      <td>2021.000000</td>\n",
              "      <td>36.128205</td>\n",
              "      <td>37.559671</td>\n",
              "      <td>1.000000</td>\n",
              "      <td>728.000000</td>\n",
              "      <td>170.00000</td>\n",
              "      <td>199.000000</td>\n",
              "    </tr>\n",
              "  </tbody>\n",
              "</table>\n",
              "</div>"
            ],
            "text/plain": [
              "              YEAR          PTS          MIN       FG_PCT   PLUS_MINUS  \\\n",
              "count  1599.000000  1599.000000  1599.000000  1599.000000  1599.000000   \n",
              "mean   2020.006254     8.761570    19.563602     0.443966     0.000000   \n",
              "std       0.818259     6.322669     9.209672     0.109955   152.766798   \n",
              "min    2019.000000     0.000000     0.623333     0.000000  -672.000000   \n",
              "25%    2019.000000     4.043403    12.253924     0.402000   -69.000000   \n",
              "50%    2020.000000     7.142857    19.298627     0.440000    -9.000000   \n",
              "75%    2021.000000    11.968636    27.415050     0.491000    47.000000   \n",
              "max    2021.000000    36.128205    37.559671     1.000000   728.000000   \n",
              "\n",
              "              STL          BLK  \n",
              "count  1599.00000  1599.000000  \n",
              "mean     32.10444    20.692308  \n",
              "std      28.27391    25.772527  \n",
              "min       0.00000     0.000000  \n",
              "25%       8.00000     4.000000  \n",
              "50%      26.00000    12.000000  \n",
              "75%      49.00000    28.000000  \n",
              "max     170.00000   199.000000  "
            ]
          },
          "execution_count": 16,
          "metadata": {},
          "output_type": "execute_result"
        }
      ],
      "source": [
        "# Start with Descriptive Statistics\n",
        "compiled_reg = df_regular_season[['YEAR', 'PTS', 'MIN', 'FG_PCT', 'PLUS_MINUS', 'STL', 'BLK']]\n",
        "compiled_post = df_post_season[['YEAR', 'PTS', 'MIN', 'FG_PCT', 'PLUS_MINUS', 'STL', 'BLK']]\n",
        "compiled_reg.describe()"
      ]
    },
    {
      "cell_type": "code",
      "execution_count": null,
      "metadata": {
        "id": "8zpbfM93D182",
        "outputId": "63eb9c50-2b1c-4ebf-a409-3a68f8ddbe7b"
      },
      "outputs": [
        {
          "data": {
            "text/html": [
              "<div>\n",
              "<style scoped>\n",
              "    .dataframe tbody tr th:only-of-type {\n",
              "        vertical-align: middle;\n",
              "    }\n",
              "\n",
              "    .dataframe tbody tr th {\n",
              "        vertical-align: top;\n",
              "    }\n",
              "\n",
              "    .dataframe thead th {\n",
              "        text-align: right;\n",
              "    }\n",
              "</style>\n",
              "<table border=\"1\" class=\"dataframe\">\n",
              "  <thead>\n",
              "    <tr style=\"text-align: right;\">\n",
              "      <th></th>\n",
              "      <th>YEAR</th>\n",
              "      <th>PTS</th>\n",
              "      <th>MIN</th>\n",
              "      <th>FG_PCT</th>\n",
              "      <th>PLUS_MINUS</th>\n",
              "      <th>STL</th>\n",
              "      <th>BLK</th>\n",
              "    </tr>\n",
              "  </thead>\n",
              "  <tbody>\n",
              "    <tr>\n",
              "      <th>count</th>\n",
              "      <td>668.000000</td>\n",
              "      <td>668.000000</td>\n",
              "      <td>668.000000</td>\n",
              "      <td>668.000000</td>\n",
              "      <td>668.000000</td>\n",
              "      <td>668.000000</td>\n",
              "      <td>668.000000</td>\n",
              "    </tr>\n",
              "    <tr>\n",
              "      <th>mean</th>\n",
              "      <td>2020.040419</td>\n",
              "      <td>8.446587</td>\n",
              "      <td>19.110426</td>\n",
              "      <td>0.407686</td>\n",
              "      <td>0.000000</td>\n",
              "      <td>5.185629</td>\n",
              "      <td>3.374251</td>\n",
              "    </tr>\n",
              "    <tr>\n",
              "      <th>std</th>\n",
              "      <td>0.821295</td>\n",
              "      <td>7.790777</td>\n",
              "      <td>12.516475</td>\n",
              "      <td>0.182696</td>\n",
              "      <td>41.403235</td>\n",
              "      <td>6.778016</td>\n",
              "      <td>5.179309</td>\n",
              "    </tr>\n",
              "    <tr>\n",
              "      <th>min</th>\n",
              "      <td>2019.000000</td>\n",
              "      <td>0.000000</td>\n",
              "      <td>0.000000</td>\n",
              "      <td>0.000000</td>\n",
              "      <td>-96.000000</td>\n",
              "      <td>0.000000</td>\n",
              "      <td>0.000000</td>\n",
              "    </tr>\n",
              "    <tr>\n",
              "      <th>25%</th>\n",
              "      <td>2019.000000</td>\n",
              "      <td>2.156250</td>\n",
              "      <td>7.016667</td>\n",
              "      <td>0.333000</td>\n",
              "      <td>-22.000000</td>\n",
              "      <td>1.000000</td>\n",
              "      <td>0.000000</td>\n",
              "    </tr>\n",
              "    <tr>\n",
              "      <th>50%</th>\n",
              "      <td>2020.000000</td>\n",
              "      <td>6.272059</td>\n",
              "      <td>18.070246</td>\n",
              "      <td>0.427500</td>\n",
              "      <td>-3.000000</td>\n",
              "      <td>3.000000</td>\n",
              "      <td>1.000000</td>\n",
              "    </tr>\n",
              "    <tr>\n",
              "      <th>75%</th>\n",
              "      <td>2021.000000</td>\n",
              "      <td>12.800000</td>\n",
              "      <td>30.430708</td>\n",
              "      <td>0.500000</td>\n",
              "      <td>11.250000</td>\n",
              "      <td>7.000000</td>\n",
              "      <td>4.000000</td>\n",
              "    </tr>\n",
              "    <tr>\n",
              "      <th>max</th>\n",
              "      <td>2021.000000</td>\n",
              "      <td>36.285714</td>\n",
              "      <td>41.321944</td>\n",
              "      <td>1.000000</td>\n",
              "      <td>184.000000</td>\n",
              "      <td>41.000000</td>\n",
              "      <td>34.000000</td>\n",
              "    </tr>\n",
              "  </tbody>\n",
              "</table>\n",
              "</div>"
            ],
            "text/plain": [
              "              YEAR         PTS         MIN      FG_PCT  PLUS_MINUS  \\\n",
              "count   668.000000  668.000000  668.000000  668.000000  668.000000   \n",
              "mean   2020.040419    8.446587   19.110426    0.407686    0.000000   \n",
              "std       0.821295    7.790777   12.516475    0.182696   41.403235   \n",
              "min    2019.000000    0.000000    0.000000    0.000000  -96.000000   \n",
              "25%    2019.000000    2.156250    7.016667    0.333000  -22.000000   \n",
              "50%    2020.000000    6.272059   18.070246    0.427500   -3.000000   \n",
              "75%    2021.000000   12.800000   30.430708    0.500000   11.250000   \n",
              "max    2021.000000   36.285714   41.321944    1.000000  184.000000   \n",
              "\n",
              "              STL         BLK  \n",
              "count  668.000000  668.000000  \n",
              "mean     5.185629    3.374251  \n",
              "std      6.778016    5.179309  \n",
              "min      0.000000    0.000000  \n",
              "25%      1.000000    0.000000  \n",
              "50%      3.000000    1.000000  \n",
              "75%      7.000000    4.000000  \n",
              "max     41.000000   34.000000  "
            ]
          },
          "execution_count": 17,
          "metadata": {},
          "output_type": "execute_result"
        }
      ],
      "source": [
        "compiled_post.describe()"
      ]
    },
    {
      "cell_type": "markdown",
      "metadata": {
        "id": "qsd-qLQxD182"
      },
      "source": [
        "## Exploratory Data Analysis (EDA)\n",
        "\n",
        "From the variables listed above in our Descriptive Analysis, we generated box plots to visualize the data comparing each season's statistics beside one another."
      ]
    },
    {
      "cell_type": "code",
      "execution_count": null,
      "metadata": {
        "id": "9sUeeZRsD182",
        "outputId": "ef46fdbc-6a08-474a-a8a8-cf478fccd873"
      },
      "outputs": [
        {
          "data": {
            "image/png": "[encoded data removed]",
            "text/plain": [
              "<Figure size 1080x720 with 6 Axes>"
            ]
          },
          "metadata": {
            "needs_background": "light"
          },
          "output_type": "display_data"
        }
      ],
      "source": [
        "fig, axes = plt.subplots(3, 2, figsize=(15, 10))\n",
        "\n",
        "#Points per Game\n",
        "sns.boxplot(x='YEAR', y='PTS', data=df_regular_season, ax=axes[0, 0])\n",
        "axes[0, 0].set_title('Points per Game by Season')\n",
        "\n",
        "# Minutes per Game\n",
        "sns.boxplot(x='YEAR', y='MIN', data=df_regular_season, ax=axes[0, 1])\n",
        "axes[0, 1].set_title('Minutes per Game by Season')\n",
        "\n",
        "# Field Goal Percentage\n",
        "sns.boxplot(x='YEAR', y='FG_PCT', data=df_regular_season, ax=axes[1, 0])\n",
        "axes[1, 0].set_title('Field Goal Percentage by Season')\n",
        "\n",
        "# Plus-Minus\n",
        "sns.boxplot(x='YEAR', y='PLUS_MINUS', data=df_regular_season, ax=axes[1, 1])\n",
        "axes[1, 1].set_title('Plus-Minus by Season')\n",
        "\n",
        "# Steals per Game\n",
        "sns.boxplot(x='YEAR', y='STL', data=df_regular_season, ax=axes[2, 0])\n",
        "axes[2, 0].set_title('Steals per Game by Season')\n",
        "\n",
        "# Blocks per Game\n",
        "sns.boxplot(x='YEAR', y='BLK', data=df_regular_season, ax=axes[2, 1])\n",
        "axes[2, 1].set_title('Blocks per Game by Season')\n",
        "\n",
        "plt.tight_layout()\n",
        "plt.show()"
      ]
    },
    {
      "cell_type": "markdown",
      "metadata": {
        "id": "UY_ctUJyD182"
      },
      "source": [
        "The boxplots visualize various basketball performance metrics across three NBA seasons (2019, 2020, 2021), showcasing the distribution of each metric during these periods. The median values of all metrics seem relatively stable across seasons, with a few standout performers represented by outliers. The graph alone seems to suggest stability in player roles. There might be slight increase or decrease, so we will look at them with more details."
      ]
    },
    {
      "cell_type": "markdown",
      "metadata": {
        "id": "-zIB_IGLD183"
      },
      "source": [
        "We graphed the changes in Points per Game, Minutes per Game, and Field Goal Percent as line plots:"
      ]
    },
    {
      "cell_type": "code",
      "execution_count": null,
      "metadata": {
        "id": "Xi4MNHKRD183",
        "outputId": "903a7ae8-8f39-468b-c427-26d1ec1fdfa8"
      },
      "outputs": [
        {
          "data": {
            "image/png": "[encoded data removed]",
            "text/plain": [
              "<Figure size 864x1296 with 3 Axes>"
            ]
          },
          "metadata": {
            "needs_background": "light"
          },
          "output_type": "display_data"
        }
      ],
      "source": [
        "fig, axes = plt.subplots(3, 1, figsize=(12, 18))\n",
        "for i, metric in enumerate([ 'PTS', 'MIN', 'FG_PCT']):\n",
        "    sns.lineplot(x='YEAR', y=metric, data=compiled_reg, ax=axes[i], estimator='mean', marker='o')\n",
        "    axes[i].set_title(f'{metric} per Game by Season')\n",
        "    axes[i].set_ylabel(metric)\n",
        "    axes[i].set_xlabel('Season')\n",
        "\n",
        "plt.tight_layout()\n",
        "plt.show()"
      ]
    },
    {
      "cell_type": "markdown",
      "metadata": {
        "id": "AzBBNcwZD183"
      },
      "source": [
        "As can be seen, there is a slight upward trend over the years in Points per Game, Minutes per Game, and Field Goal Percentage by Game.\n",
        "\n",
        "From the box plots and the line plots, no significant differences are visible between the performance statistics of different years. It's worth investigating further with Kernel Density Estimations, since they'll allow us to get a more accurate sense of the distributions of these performance metrics year-to-year, and should reveal any outliers in the data or unique traits of certain years' distributions (if they exist)."
      ]
    },
    {
      "cell_type": "code",
      "execution_count": null,
      "metadata": {
        "id": "7jhAnfcBD183",
        "outputId": "443bd332-cbc2-4069-f866-e4f8f5180796"
      },
      "outputs": [
        {
          "data": {
            "image/png": "[encoded data removed]",
            "text/plain": [
              "<Figure size 1080x720 with 6 Axes>"
            ]
          },
          "metadata": {
            "needs_background": "light"
          },
          "output_type": "display_data"
        }
      ],
      "source": [
        "fig, axes = plt.subplots(3, 2, figsize=(15, 10))\n",
        "\n",
        "# Points per Game by Season, Regular Season\n",
        "sns.kdeplot(data = df_regular_season, x = 'PTS', hue = 'YEAR', ax = axes[0, 0])\n",
        "axes[0, 0].set_title('Points per Game by Season, Regular Season')\n",
        "\n",
        "# Points per Game by Season, Post Season\n",
        "sns.kdeplot(data = df_post_season, x = 'PTS', hue = 'YEAR', ax = axes[0, 1])\n",
        "axes[0, 1].set_title('Points per Game by Season, Post Season')\n",
        "\n",
        "# Minutes per Game by Season, Regular Season\n",
        "sns.kdeplot(data = df_regular_season, x = 'MIN', hue = 'YEAR', ax = axes[1, 0])\n",
        "axes[1, 0].set_title('Minutes per Game by Season, Regular Season')\n",
        "\n",
        "# Minutes per Game by Season, Post Season\n",
        "sns.kdeplot(data = df_post_season, x = 'MIN', hue = 'YEAR', ax = axes[1, 1])\n",
        "axes[1, 1].set_title('Minutes per Game by Season, Post Season')\n",
        "\n",
        "# Field Goal Percentage per Game by Season, Regular Season\n",
        "sns.kdeplot(data = df_regular_season, x = 'FG_PCT', hue = 'YEAR', ax = axes[2, 0])\n",
        "axes[2, 0].set_title('Field Goal Percentage per Game by Season, Regular Season')\n",
        "\n",
        "# Field Goal Percentage per Game by Season, Post Season\n",
        "sns.kdeplot(data = df_post_season, x = 'FG_PCT', hue = 'YEAR', ax = axes[2, 1])\n",
        "axes[2, 1].set_title('Field Goal Percentage per Game by Season, Post Season')\n",
        "\n",
        "plt.tight_layout()\n",
        "plt.show()"
      ]
    },
    {
      "cell_type": "markdown",
      "metadata": {
        "id": "5E19ZedmD183"
      },
      "source": [
        "The KDE distributions are nearly overlapping for Points per Game and Field Goal Percentage by Game for the Regular Seasons.\n",
        "\n",
        "The distributions differ more year-to-year when it comes to Minutes per Game in the Regular Seasons and Points per Game, Minutes per Game, and Field Goal Percentage per Game in the Post Seasons. As we specified above, the post-season is known for being more intense and competitive due to its multiple knockout round, so the year-to-year variability in Post Season performance metrics makes sense as the context of the Post Season breeds more outstanding performances (in multiple senses of the word).\n",
        "\n",
        "However, even if distributions of a metric differ quantitatively between years, they tend to retain similar shapes in terms of range and number of modes. Since so many of the distributions are so similar to each other year-to-year, graphical representations such as this are not enough to reveal any significant differences between years and we must turn to the more granular methods of Inferential Analysis."
      ]
    },
    {
      "cell_type": "code",
      "execution_count": null,
      "metadata": {
        "id": "dOQvVwKlD183"
      },
      "outputs": [],
      "source": [
        "# Combining the data\n",
        "df_combined = pd.concat([df_p_18_19, df_p_19_20, df_p_20_21], ignore_index=True)"
      ]
    },
    {
      "cell_type": "code",
      "execution_count": null,
      "metadata": {
        "id": "4iucq2a4D183",
        "outputId": "00bc5d6a-4278-46c7-bc6a-5ee157450364"
      },
      "outputs": [
        {
          "data": {
            "image/png": "[encoded data removed]",
            "text/plain": [
              "<Figure size 720x432 with 1 Axes>"
            ]
          },
          "metadata": {
            "needs_background": "light"
          },
          "output_type": "display_data"
        }
      ],
      "source": [
        "# Calculating turnover rate (Turnovers per Game)\n",
        "df_combined['TOV_RATE'] = df_combined['TOV'] / df_combined['GP']\n",
        "\n",
        "# Calculating Turnover Rate (TOV/GP)\n",
        "df_combined['TOV_RATE'] = df_combined['TOV'] / df_combined['GP']\n",
        "\n",
        "# Grouping by Year and calculating the mean turnover rate\n",
        "df_tov_rate_mean = df_combined.groupby('YEAR')['TOV_RATE'].mean().reset_index()\n",
        "\n",
        "# Creating a bar graph for a more detailed comparison\n",
        "plt.figure(figsize=(10, 6))\n",
        "sns.barplot(x='YEAR', y='TOV_RATE', data=df_tov_rate_mean)\n",
        "plt.title('Bar Graph Comparison of Turnover Rate: 2020 Season vs Other Seasons')\n",
        "plt.xlabel('Season')\n",
        "plt.ylabel('Average Turnover Rate')\n",
        "plt.xticks(range(len(df_tov_rate_mean)), df_tov_rate_mean['YEAR'])\n",
        "plt.show()"
      ]
    },
    {
      "cell_type": "markdown",
      "metadata": {
        "id": "bYI0nRMpD184"
      },
      "source": [
        "We can see that the turnover rate expressed a small bump and quickly dropped before and after the NBA 'bubble' season. Typically, the turnover rate shows how comfortable or confident the players perform. We often see a high turnover rate in young or rookie players who need more experience. From our observation above, we concluded that the lack of an audience can significantly reduce the stress among players. This would perfectly explain why the 2020 'Bubble' season has the highest turnover rate and why the turnover rate quickly drops after the 'Bubble' era.\n",
        "\n",
        "Also, another critical observation for the player turnover status is the game's intensity. Inside the 'Bubble' court, the players receive much fewer distractions like home court crowds, media shoots, or other components of professional basketball games unrelated to the sport itself. This can make athletes much more focused on the game itself, raising the intensity of the game, which significantly increases the turnover rate among both teams. The more concentrated defense results in a poorly executed round, and thus more turnover."
      ]
    },
    {
      "cell_type": "code",
      "execution_count": null,
      "metadata": {
        "id": "wj0SDUrsD184"
      },
      "outputs": [],
      "source": [
        "# Filtering the DataFrame for the 2020 season and other seasons\n",
        "df_2020 = df_regular_season[df_regular_season['YEAR'] == 2020]\n",
        "df_other_years = df_regular_season[df_regular_season['YEAR'] != 2020]"
      ]
    },
    {
      "cell_type": "code",
      "execution_count": null,
      "metadata": {
        "id": "83ZeAtIZD184",
        "outputId": "1da683fd-d4cc-459f-95d5-ef7c26306580"
      },
      "outputs": [
        {
          "name": "stdout",
          "output_type": "stream",
          "text": [
            "Mean Metrics for 2020 Season:\n",
            " FG_PCT      0.445060\n",
            "TOV        55.708885\n",
            "STL        30.623819\n",
            "BLK        19.618147\n",
            "REB       179.502836\n",
            "dtype: float64\n",
            "\n",
            "Mean Metrics for Other Seasons:\n",
            " FG_PCT      0.443425\n",
            "TOV        57.814019\n",
            "STL        32.836449\n",
            "BLK        21.223364\n",
            "REB       193.264486\n",
            "dtype: float64\n"
          ]
        }
      ],
      "source": [
        "# List of metrics to analyze\n",
        "metrics = ['FG_PCT', 'TOV', 'STL', 'BLK', 'REB']\n",
        "\n",
        "# Checking which metrics are available in df_regular_season\n",
        "available_metrics = [metric for metric in metrics if metric in df_regular_season.columns]\n",
        "\n",
        "# Calculating mean metrics for the 2020 season and other seasons\n",
        "mean_metrics_2020 = df_2020[available_metrics].mean()\n",
        "mean_metrics_other_years = df_other_years[available_metrics].mean()\n",
        "\n",
        "# Displaying the mean metrics for comparison\n",
        "print(\"Mean Metrics for 2020 Season:\\n\", mean_metrics_2020)\n",
        "print(\"\\nMean Metrics for Other Seasons:\\n\", mean_metrics_other_years)\n"
      ]
    },
    {
      "cell_type": "code",
      "execution_count": null,
      "metadata": {
        "id": "R7k81IZBD184",
        "outputId": "b517b787-ce75-474a-ea64-886f2c77cce8"
      },
      "outputs": [
        {
          "name": "stdout",
          "output_type": "stream",
          "text": [
            "        FG_PCT        TOV        STL        BLK         REB\n",
            "YEAR                                                       \n",
            "2019  0.439911  62.816981  35.432075  22.990566  209.635849\n",
            "2020  0.445060  55.708885  30.623819  19.618147  179.502836\n",
            "2021  0.446874  52.903704  30.288889  19.488889  177.196296\n"
          ]
        }
      ],
      "source": [
        "# Extracting average metrics for each season\n",
        "avg_metrics_by_year = df_regular_season.groupby('YEAR')[['FG_PCT', 'TOV', 'STL', 'BLK', 'REB']].mean()\n",
        "print(avg_metrics_by_year)"
      ]
    },
    {
      "cell_type": "markdown",
      "metadata": {
        "id": "OD07t4SAD184"
      },
      "source": [
        "The data from the df_regular_season DataFrame show a change in key performance indicators: the increase in FG% can be attributed to a reduction in psychological stress in the absence of live spectators, as well as consistency in match conditions. This situation may provide a more focused environment conducive to shooting efficiency. It could be that in the \"Bubble\" external pressure and incentives are absent, creating challenges and opportunities for the players.\n",
        "\n",
        "Cut off from the typical game-day experience, which includes fan interaction and the familiar home advantage, players need to adapt both mentally and physically. No travel may improve rest and recovery, potentially improving physical performance. However, due to the lack of support from the fans and the usually energetic atmosphere, the players need to adjust their psychology and find new sources of motivation and attention. Judging by changes in steals, blocks and rebounds, defensive and offensive strategies may also evolve as these conditions change."
      ]
    },
    {
      "cell_type": "markdown",
      "metadata": {
        "id": "oBdD6HzSD184"
      },
      "source": [
        "## Inferential Analysis\n",
        "\n",
        "We carried out several t-tests to evaluate whether any of the differences in the means of our performance metrics were statistically significant. For our measure of significance, we will consider any P value below 0.05 to be statistically significant.\n",
        "\n",
        "Null Hypothesis (H0): There is no significant difference in the performance metric between the \"Bubble\" season and the other seasons.\n",
        "\n",
        "Alternative Hypothesis (H1): There is a significant difference in the performance metric between the \"Bubble\" season and the other seasons.\n",
        "\n",
        "First, we will check if there are statistically significance between regular seasons and post seasons."
      ]
    },
    {
      "cell_type": "code",
      "execution_count": null,
      "metadata": {
        "id": "yu11fm0fD184",
        "outputId": "f49fc04d-4d9f-4d97-bd94-b00e983f4065"
      },
      "outputs": [
        {
          "data": {
            "text/plain": [
              "{'PTS': (0.9253685450835683, 0.3549865915503755),\n",
              " 'MIN': (0.8450782485136247, 0.3982730229732272),\n",
              " 'FG_PCT': (4.783379559723887, 2.021958055443842e-06),\n",
              " 'TOV': (32.107164651514765, 3.091769714175372e-182)}"
            ]
          },
          "execution_count": 26,
          "metadata": {},
          "output_type": "execute_result"
        }
      ],
      "source": [
        "def perform_ttest(metric):\n",
        "    # Extracting the metric data from both datasets\n",
        "    regular_season_metric = df_regular_season[metric]\n",
        "    post_season_metric = df_post_season[metric]\n",
        "\n",
        "    # Performing the t-test\n",
        "    t_stat, p_value = ttest_ind(regular_season_metric, post_season_metric, equal_var=False)\n",
        "    return t_stat, p_value\n",
        "\n",
        "# Selecting a few performance metrics to compare between regular season and post-season\n",
        "metrics_to_test = ['PTS', 'MIN', 'FG_PCT', 'TOV']\n",
        "\n",
        "# Performing the t-test for each metric and collecting results\n",
        "ttest_results = {metric: perform_ttest(metric) for metric in metrics_to_test}\n",
        "ttest_results"
      ]
    },
    {
      "cell_type": "markdown",
      "metadata": {
        "id": "61RTz8eID184"
      },
      "source": [
        "This suggests that player performance in field goal percentage and turnover rate tends to vary between the two phases of the season, possibly due to the differing nature of regular and post-season games. We will take a look at Points per Game for the 2020 regular season versus the 2019 and 2021 regular seasons."
      ]
    },
    {
      "cell_type": "code",
      "execution_count": null,
      "metadata": {
        "id": "fFZX1vkPD184",
        "outputId": "8d48bca7-b3a3-48be-ffe2-5ff9b8945015"
      },
      "outputs": [
        {
          "name": "stdout",
          "output_type": "stream",
          "text": [
            "T-statistic for Points per Game: -0.15699027797852913\n",
            "P-value for Points per Game: 0.8752829211197002\n"
          ]
        }
      ],
      "source": [
        "bubble_season = df_regular_season[df_regular_season['YEAR'] == 2020]\n",
        "other_seasons = df_regular_season[df_regular_season['YEAR'] != 2020]\n",
        "\n",
        "bubble_post_season = df_post_season[df_post_season['YEAR'] == 2020]\n",
        "other_post_seasons = df_post_season[df_post_season['YEAR'] != 2020]\n",
        "\n",
        "# Conducting t-tests for Points per Game\n",
        "t_stat_pts, p_val_pts = stats.ttest_ind(bubble_season['PTS'], other_seasons['PTS'], equal_var=False)\n",
        "\n",
        "# t-statistic and p-value\n",
        "print(\"T-statistic for Points per Game:\", t_stat_pts)\n",
        "print(\"P-value for Points per Game:\", p_val_pts)"
      ]
    },
    {
      "cell_type": "markdown",
      "metadata": {
        "id": "JHj90_kHD184"
      },
      "source": [
        "The magnitude of our T-statistic (0.1569) is relatively small, implying that there is not that much of a difference between the \"Bubble\" season and other seasons. Furthermore, such a high P-value for Points per Game (0.875) indicates that any differences in Points per Game for the 2020 regular season versus the other seasons considered are NOT statistically significant. For Points per Game, we fail to reject the Null Hypothesis (H0).\n",
        "\n",
        "Next we will take a look at Minutes per Game for the 2020 regular season versus the 2019 and 2021 regular seasons."
      ]
    },
    {
      "cell_type": "code",
      "execution_count": null,
      "metadata": {
        "id": "hp135tHRD184",
        "outputId": "ec0accae-8928-43f0-b5e7-cfe79f56c7df"
      },
      "outputs": [
        {
          "name": "stdout",
          "output_type": "stream",
          "text": [
            "T-statistic for Minutes per Game: -0.15589606070615405\n",
            "P-value for Minutes per Game: 0.8761448533825336\n"
          ]
        }
      ],
      "source": [
        "# Conducting t-tests for Minutes per Game\n",
        "t_stat_pts, p_val_pts = stats.ttest_ind(bubble_season['MIN'], other_seasons['MIN'], equal_var=False)\n",
        "\n",
        "# t-statistic and p-value\n",
        "print(\"T-statistic for Minutes per Game:\", t_stat_pts)\n",
        "print(\"P-value for Minutes per Game:\", p_val_pts)"
      ]
    },
    {
      "cell_type": "markdown",
      "metadata": {
        "id": "SB8DtIy0D184"
      },
      "source": [
        "As for the Points per Game, our P-value (0.876) is far too high to be considered as statistically significant. For Minutes per Game, we fail to reject the Null Hypothesis (H0) and do not find any significant differences in Minutes per Game for the Bubble season versus other seasons.\n",
        "\n",
        "Next, we will take a look at Field Goal Percentages."
      ]
    },
    {
      "cell_type": "code",
      "execution_count": null,
      "metadata": {
        "id": "jV62J3YxD184",
        "outputId": "f9b51251-5b3a-4924-c6b1-abd342612737"
      },
      "outputs": [
        {
          "name": "stdout",
          "output_type": "stream",
          "text": [
            "T-statistic for Field Goal Percentage per Game: 0.2803344804650335\n",
            "P-value for Field Goal Percentage per Game: 0.7792756968688401\n"
          ]
        }
      ],
      "source": [
        "# Conducting t-tests for Field Goal Percentage per Game\n",
        "t_stat_pts, p_val_pts = stats.ttest_ind(bubble_season['FG_PCT'], other_seasons['FG_PCT'], equal_var=False)\n",
        "\n",
        "# t-statistic and p-value\n",
        "print(\"T-statistic for Field Goal Percentage per Game:\", t_stat_pts)\n",
        "print(\"P-value for Field Goal Percentage per Game:\", p_val_pts)"
      ]
    },
    {
      "cell_type": "markdown",
      "metadata": {
        "id": "WK5FHFuTD185"
      },
      "source": [
        "We're starting to see a pattern here... The P-value (0.779) for Field Goal Percentage in regular seasons is too high to be statistically significant, and we fail to reject the Null Hypothesis (H0) as it pertains to differences in Field Goal Percentages during the regular seasons.\n",
        "\n",
        "Now let's take a look at the post seasons, starting with Points per Game and Minutes per Game."
      ]
    },
    {
      "cell_type": "code",
      "execution_count": null,
      "metadata": {
        "id": "sopjppflD185",
        "outputId": "d4b064b5-e853-4566-b222-78ce0b689ed0"
      },
      "outputs": [
        {
          "name": "stdout",
          "output_type": "stream",
          "text": [
            "T-statistic for Points per Game: -0.15699027797852913\n",
            "P-value for Points per Game: 0.8752829211197002\n"
          ]
        }
      ],
      "source": [
        "# Conducting t-tests for Points per Game\n",
        "t_stat_pts, p_val_pts = stats.ttest_ind(bubble_season['PTS'], other_seasons['PTS'], equal_var=False)\n",
        "\n",
        "# t-statistic and p-value\n",
        "print(\"T-statistic for Points per Game:\", t_stat_pts)\n",
        "print(\"P-value for Points per Game:\", p_val_pts)"
      ]
    },
    {
      "cell_type": "code",
      "execution_count": null,
      "metadata": {
        "id": "KpGWOKDqD185",
        "outputId": "42b33c6c-1077-415d-b074-9e575f745128"
      },
      "outputs": [
        {
          "name": "stdout",
          "output_type": "stream",
          "text": [
            "T-statistic for Minutes per Game: -0.15589606070615405\n",
            "P-value for Minutes per Game: 0.8761448533825336\n"
          ]
        }
      ],
      "source": [
        "# Conducting t-tests for Minutes per Game\n",
        "t_stat_pts, p_val_pts = stats.ttest_ind(bubble_season['MIN'], other_seasons['MIN'], equal_var=False)\n",
        "\n",
        "# t-statistic and p-value\n",
        "print(\"T-statistic for Minutes per Game:\", t_stat_pts)\n",
        "print(\"P-value for Minutes per Game:\", p_val_pts)"
      ]
    },
    {
      "cell_type": "markdown",
      "metadata": {
        "id": "B_qFn0JUD185"
      },
      "source": [
        "Such results are not surprising since there are no statistically significant difference between regular seasons and post seasons on these metrics; after we take the effect of bubble season, these results are pretty much the same as the statistics on regular seasons. We fail to reject the Null Hypothesis (H0) as it applies to Minutes per Game for the post-seasons.\n",
        "\n",
        "Let's take a look at Field Goal Percentages for the post-seasons."
      ]
    },
    {
      "cell_type": "code",
      "execution_count": null,
      "metadata": {
        "id": "ys94Of5fD185",
        "outputId": "fa4fe949-808d-499e-c624-52e570775c24"
      },
      "outputs": [
        {
          "name": "stdout",
          "output_type": "stream",
          "text": [
            "T-statistic for Field Goal Percentage per Game: 0.2803344804650335\n",
            "P-value for Field Goal Percentage per Game: 0.7792756968688401\n"
          ]
        }
      ],
      "source": [
        "# Conducting t-tests for Field Goal Percentage per Game\n",
        "t_stat_pts, p_val_pts = stats.ttest_ind(bubble_season['FG_PCT'], other_seasons['FG_PCT'], equal_var=False)\n",
        "\n",
        "# t-statistic and p-value\n",
        "print(\"T-statistic for Field Goal Percentage per Game:\", t_stat_pts)\n",
        "print(\"P-value for Field Goal Percentage per Game:\", p_val_pts)"
      ]
    },
    {
      "cell_type": "markdown",
      "metadata": {
        "id": "-mpOwLdBD185"
      },
      "source": [
        "The T-statistic continues to be at low magnitudes seen in the t-tests for regular seasons. We definitely fail to reject the Null Hypothesis (H0) for Field Goal Percentages in post-seasons.\n",
        "\n",
        "Now let's examine the Turnover Rate."
      ]
    },
    {
      "cell_type": "code",
      "execution_count": null,
      "metadata": {
        "id": "aShQPq_RD185",
        "outputId": "bc444ec2-2ad3-44a6-d4d3-79f4157a985a"
      },
      "outputs": [
        {
          "name": "stdout",
          "output_type": "stream",
          "text": [
            "T-statistic for Turnover Rate, Regular Seasons: -0.7189024902592961\n",
            "P-value for Turnover Rate, Regular Seasons: 0.4723548576197504\n"
          ]
        }
      ],
      "source": [
        "# Conducting t-tests for Turnover Rate\n",
        "t_stat_pts, p_val_pts = stats.ttest_ind(bubble_season['TOV'], other_seasons['TOV'], equal_var=False)\n",
        "\n",
        "# t-statistic and p-value\n",
        "print(\"T-statistic for Turnover Rate, Regular Seasons:\", t_stat_pts)\n",
        "print(\"P-value for Turnover Rate, Regular Seasons:\", p_val_pts)"
      ]
    },
    {
      "cell_type": "code",
      "execution_count": null,
      "metadata": {
        "id": "MsVxDef4D185",
        "outputId": "2af874ef-e900-4b82-9140-159e8729bc9a"
      },
      "outputs": [
        {
          "name": "stdout",
          "output_type": "stream",
          "text": [
            "T-statistic for Turnover Rate, Post Seasons: 1.113000550038785\n",
            "P-value for Turnover Rate, Post Seasons: 0.2663500679495374\n"
          ]
        }
      ],
      "source": [
        "# Conducting t-tests for Turnover Rate\n",
        "t_stat_pts, p_val_pts = stats.ttest_ind(bubble_post_season['TOV'], other_post_seasons['TOV'], equal_var=False)\n",
        "\n",
        "# t-statistic and p-value\n",
        "print(\"T-statistic for Turnover Rate, Post Seasons:\", t_stat_pts)\n",
        "print(\"P-value for Turnover Rate, Post Seasons:\", p_val_pts)"
      ]
    },
    {
      "cell_type": "markdown",
      "metadata": {
        "id": "kL6jkEI3D185"
      },
      "source": [
        "These statistics seem consistent with what we've found so far: T-statistics are higher and P-values are lower for the post-season metric than its corresponding regular season metric, indicating more differences between years, but ultimately these differences are not statistically significant. There have been no metrics for which we have been able to reject our Null Hypothesis of no significant differences between the \"Bubble\" season and other seasons."
      ]
    },
    {
      "cell_type": "markdown",
      "metadata": {
        "id": "hcCJXY_mD185"
      },
      "source": [
        "Now we want to check whether linear regression gives the same conclusion besides t-tests. We will use Bubble as a dummy variable that takes 1 if it's during the bubble season and 0 otherwise, and we choose the field goal percentage as the representative performance evaluation. We include another variable Age in the regression, hoping to reduce the omitted variable bias, since Age might capture various underlying factors that affect player performance, such as physical maturity, experience, injury history, and adaptability to game strategies. By including age, the model can account for these effects more accurately."
      ]
    },
    {
      "cell_type": "code",
      "execution_count": null,
      "metadata": {
        "id": "A3wxGF6vD185",
        "outputId": "234634b3-c10f-43c7-a1f7-3e33d2c57b65"
      },
      "outputs": [
        {
          "data": {
            "text/plain": [
              "(<class 'statsmodels.iolib.summary.Summary'>\n",
              " \"\"\"\n",
              "                             OLS Regression Results                            \n",
              " ==============================================================================\n",
              " Dep. Variable:                 FG_PCT   R-squared:                       0.002\n",
              " Model:                            OLS   Adj. R-squared:                  0.000\n",
              " Method:                 Least Squares   F-statistic:                     1.369\n",
              " Date:                Wed, 13 Dec 2023   Prob (F-statistic):              0.255\n",
              " Time:                        21:39:50   Log-Likelihood:                 1263.1\n",
              " No. Observations:                1599   AIC:                            -2520.\n",
              " Df Residuals:                    1596   BIC:                            -2504.\n",
              " Df Model:                           2                                         \n",
              " Covariance Type:            nonrobust                                         \n",
              " ==============================================================================\n",
              "                  coef    std err          t      P>|t|      [0.025      0.975]\n",
              " ------------------------------------------------------------------------------\n",
              " const          0.4152      0.018     23.573      0.000       0.381       0.450\n",
              " AGE            0.0011      0.001      1.631      0.103      -0.000       0.002\n",
              " Bubble         0.0018      0.006      0.310      0.757      -0.010       0.013\n",
              " ==============================================================================\n",
              " Omnibus:                      238.172   Durbin-Watson:                   1.941\n",
              " Prob(Omnibus):                  0.000   Jarque-Bera (JB):             1977.029\n",
              " Skew:                          -0.424   Prob(JB):                         0.00\n",
              " Kurtosis:                       8.381   Cond. No.                         170.\n",
              " ==============================================================================\n",
              " \n",
              " Notes:\n",
              " [1] Standard Errors assume that the covariance matrix of the errors is correctly specified.\n",
              " \"\"\",\n",
              " <class 'statsmodels.iolib.summary.Summary'>\n",
              " \"\"\"\n",
              "                             OLS Regression Results                            \n",
              " ==============================================================================\n",
              " Dep. Variable:                 FG_PCT   R-squared:                       0.003\n",
              " Model:                            OLS   Adj. R-squared:                 -0.000\n",
              " Method:                 Least Squares   F-statistic:                    0.9219\n",
              " Date:                Wed, 13 Dec 2023   Prob (F-statistic):              0.398\n",
              " Time:                        21:39:50   Log-Likelihood:                 189.13\n",
              " No. Observations:                 668   AIC:                            -372.3\n",
              " Df Residuals:                     665   BIC:                            -358.7\n",
              " Df Model:                           2                                         \n",
              " Covariance Type:            nonrobust                                         \n",
              " ==============================================================================\n",
              "                  coef    std err          t      P>|t|      [0.025      0.975]\n",
              " ------------------------------------------------------------------------------\n",
              " const          0.3470      0.047      7.371      0.000       0.255       0.439\n",
              " AGE            0.0023      0.002      1.337      0.182      -0.001       0.006\n",
              " Bubble        -0.0036      0.015     -0.241      0.810      -0.033       0.026\n",
              " ==============================================================================\n",
              " Omnibus:                       31.164   Durbin-Watson:                   1.987\n",
              " Prob(Omnibus):                  0.000   Jarque-Bera (JB):               73.633\n",
              " Skew:                          -0.216   Prob(JB):                     1.03e-16\n",
              " Kurtosis:                       4.568   Cond. No.                         182.\n",
              " ==============================================================================\n",
              " \n",
              " Notes:\n",
              " [1] Standard Errors assume that the covariance matrix of the errors is correctly specified.\n",
              " \"\"\")"
            ]
          },
          "execution_count": 35,
          "metadata": {},
          "output_type": "execute_result"
        }
      ],
      "source": [
        "df_regular_season['Bubble'] = df_regular_season['YEAR'].apply(lambda x: 1 if x == 2020 else 0)\n",
        "df_post_season['Bubble'] = df_post_season['YEAR'].apply(lambda x: 1 if x == 2020 else 0)\n",
        "\n",
        "# Regular Season\n",
        "X_reg_season = df_regular_season[['AGE', 'Bubble']]\n",
        "y_reg_season = df_regular_season['FG_PCT']\n",
        "\n",
        "# Post Season\n",
        "X_post_season = df_post_season[['AGE', 'Bubble']]\n",
        "y_post_season = df_post_season['FG_PCT']\n",
        "X_reg_season = sm.add_constant(X_reg_season)\n",
        "X_post_season = sm.add_constant(X_post_season)\n",
        "\n",
        "# Creating and fitting the linear regression models\n",
        "model_reg_season = sm.OLS(y_reg_season, X_reg_season).fit()\n",
        "model_post_season = sm.OLS(y_post_season, X_post_season).fit()\n",
        "\n",
        "# Getting the summaries of the regression models\n",
        "summary_reg_season = model_reg_season.summary()\n",
        "summary_post_season = model_post_season.summary()\n",
        "\n",
        "(summary_reg_season, summary_post_season)"
      ]
    },
    {
      "cell_type": "markdown",
      "metadata": {
        "id": "uVHVRVk9D185"
      },
      "source": [
        "Note that all coefficients on age and bubble for both regressions are not statistically significant according to the t-value |t| < 1.96 for 5% significance level. Moreover, the extremely low value of R-squared, 0.002 and 0.003 respectively, suggests that the model explains a very small portion of the variance in FG% for both seasons. This could imply that factors influencing FG% are more complex and might be related to other variables not included in this model, but we can certainly arrive at an answer for our question."
      ]
    },
    {
      "cell_type": "markdown",
      "metadata": {
        "id": "NyaKMkA5D185"
      },
      "source": [
        "# Ethics & Privacy"
      ]
    },
    {
      "cell_type": "markdown",
      "metadata": {
        "id": "jPyG92riD185"
      },
      "source": [
        "**Data Source and Informed Consent:**\n",
        "Our research utilizes data from the NBA website, focusing on player performance metrics by season. Given that NBA players are public figures and their performances are publicly recorded and broadcasted, their status implies a degree of informed consent for the use of this data in academic research. This consent covers the use of professional performance data, thereby mitigating ethical concerns typically associated with data privacy.\n",
        "\n",
        "**Addressing Potential Biases:**\n",
        "While our data pertains to public figures, we acknowledge the importance of unbiased representation. To this end, we will:\n",
        "- Conduct a thorough review of our data sources to identify any potential biases in data collection or reporting.\n",
        "- Utilize statistical methods to adjust for any identified biases, such as those related to player demographics or team dynamics.\n",
        "- Ensure diverse representation in our analysis, considering factors like player age, experience, and position.\n",
        "\n",
        "**Unintended Consequences:**\n",
        "We are aware that our research could potentially influence public perception of players or teams. To mitigate any negative impact, we will:\n",
        "- Focus our analysis and conclusions strictly on professional performance metrics, avoiding personal attributes or off-court behavior.\n",
        "- Present our findings in a manner that emphasizes the statistical nature of the study, avoiding sensationalism.\n",
        "\n",
        "**Ethical Reporting:**\n",
        "In all our reporting and analysis, we commit to:\n",
        "- Honestly representing the data, highlighting both strengths and limitations.\n",
        "- Being transparent about our methodologies and any assumptions we make.\n",
        "- Engaging in peer review within our team to ensure accuracy and ethical compliance.\n",
        "\n",
        "**Privacy Considerations:**\n",
        "Although the data involves public figures, we will respect their privacy by:\n",
        "- Avoiding the use of personal data that is not directly related to their professional performance.\n",
        "- Ensuring that our analysis does not lead to any harm or misrepresentation of the individuals involved."
      ]
    },
    {
      "cell_type": "markdown",
      "metadata": {
        "id": "cigiL8O_D186"
      },
      "source": [
        "# Discussion and Conclusion\n",
        "\n",
        "Our research question was, \"What is the impact of playing in the NBA \"Bubble\" on player performance, considering multiple performance metrics?\". We were particularly interested in identifying any possible differences in performance metrics between the \"Bubble\" season and typical seasons in the hopes that they would offer insight into factors that influence game performance, with potential applications in psychology, sports science, and future athletic strategy. We hypothesized that playing in the NBA \"Bubble\" led to a noticeable change in player performance metrics, including field goal percentages (FG%), compared to traditional home and away games in typical seasons.\n",
        "\n",
        "For our analysis, we used datasets from the 2018-2019, 2019-2020, and 2020-2021 regular and post-seasons. As part of our Exploratory Data Analysis, we generated line plots that revealed slight upward year-to-year trends for Points per Game, Minutes per Game, and Field Goal Percentage. We also generated box plots and KDE plots examining key statistics such as Points per Game, Minutes per Game, and Field Goal Percentage and found that the distributions for these statistics looked quite similar year-to-year, so the presence of any differences would need to be revealed with more fine-tuned methods such as those of Inferential Analysis. There was more year-to-year variability in the KDE distributions among the post-season metrics, but overall the metrics' distributions typically retained their general shape year-to-year. We saw the most year-to-year difference when it came to the Turnover Rate, with the 2020 season having the highest Turnover Rate and a noticeable drop in the 2021 season. We attributed this to a less stressful and less distracting experience brought about by playing in the \"Bubble,\" since the presence of an audience and other distracting factors can hinder game intensity and lower the turnover rate.\n",
        "\n",
        "In the Inferential Analysis section of our report, we ran multiple t-tests to evaluate whether the differences between \"Bubble\" metrics and typical season metrics were statistically significant. The metrics we analyzed were Points per Game, Minutes per Game, Field Goal Percentages, and Turnover Rates for regular and post-seasons. We could not reject our Null Hypothesis for any of these metrics, as the P-value never approached anywhere near 0.05, let alone go below it: there was no statistical significance in any of the differences within these metrics for the \"Bubble\" season and post season versus the typical seasons and postseasons. However, it's worth noting that our highest T-statistics and lowest P-values came from t-tests analyzing post-season metrics, implying that post-season metrics had more year-to-year differences than their regular season counterparts, even if those differences still weren't statistically significant. This makes sense, since post-seasons tend to be more intense and thus more variable year-to-year but not in a way that would separate one particular year's post-season out from the others. Our linear regression model also did not reveal any statistical significance in the year-to-year differences as they applied to Field Goal Percentage.\n",
        "\n",
        "While the unique conditions of the \"Bubble\" environment may impact players' psychology and thus their game performance, if there were any factors affecting player performance in the 2020 season and post-season, the influence of these factors wasn't visible on a statistical or analytical level in any significant way. As such, the data analysis we performed over the course of this project does not support our hypothesis. Based on the conclusion drawn from our analysis, concepts such as the home court advantage would warrant further investigation. However, the analysis we conducted does have its limitations: the time teams spent playing in the \"Bubble\" was relatively brief compared to the number of matches played outside the \"Bubble,\" even with our limited number of datasets. A more prolonged isolation in such a unique environment would not only have provided us with more data relative to the data available for \"typical\" games, but it also likely would have created a larger contrast in performance metrics once teams returned to the \"typical\" way of playing professional basketball. Nevertheless, by conducting this analysis we have still gained a lot of useful information about environmental factors surrounding professional basketball performance.\n",
        "\n",
        "\n",
        "# Team Contributions\n",
        "\n",
        "Jared Banawa: Data Wrangling + Descriptive Analysis portion of video\n",
        "\n",
        "Hongchao Hu: EDA + Hypothesis and Topic Background + EDA portion of video\n",
        "\n",
        "Arina Konnova: KDE plots + T-test interpretations + Discussion/Conclusion + Discussion/Conclusion portion of video\n",
        "\n",
        "Tiankuo Li: Data Cleaning + EDA + Linear Regression Model + Inferential Analysis portion of video\n",
        "\n",
        "Khoi Nguyen: Background + Hypothesis portion of video"
      ]
    }
  ],
  "metadata": {
    "kernelspec": {
      "display_name": "Python 3 (ipykernel)",
      "language": "python",
      "name": "python3"
    },
    "language_info": {
      "codemirror_mode": {
        "name": "ipython",
        "version": 3
      },
      "file_extension": ".py",
      "mimetype": "text/x-python",
      "name": "python",
      "nbconvert_exporter": "python",
      "pygments_lexer": "ipython3",
      "version": "3.10.10"
    },
    "colab": {
      "provenance": [],
      "include_colab_link": true
    }
  },
  "nbformat": 4,
  "nbformat_minor": 0
}