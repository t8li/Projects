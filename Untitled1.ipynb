{
  "nbformat": 4,
  "nbformat_minor": 0,
  "metadata": {
    "colab": {
      "provenance": [],
      "authorship_tag": "ABX9TyOkpBSfSoEMlx0ASkliEytz",
      "include_colab_link": true
    },
    "kernelspec": {
      "name": "python3",
      "display_name": "Python 3"
    },
    "language_info": {
      "name": "python"
    }
  },
  "cells": [
    {
      "cell_type": "markdown",
      "metadata": {
        "id": "view-in-github",
        "colab_type": "text"
      },
      "source": [
        "<a href=\"https://colab.research.google.com/github/t8li/Projects/blob/main/Untitled1.ipynb\" target=\"_parent\"><img src=\"https://colab.research.google.com/assets/colab-badge.svg\" alt=\"Open In Colab\"/></a>"
      ]
    },
    {
      "cell_type": "markdown",
      "source": [
        "# COGS 108 - NBA Performance Metrics During the \"Bubble\" vs. Typical Seasons\n",
        "\n",
        "**Watch the video here**: https://drive.google.com/file/d/17l84QTNIIVB0eskPuqL3SklWMSENwzIE/view?usp=sharing\n",
        "\n",
        "# Permissions\n",
        "\n",
        "Place an `X` in the appropriate bracket below to specify if you would like your group's project to be made available to the public. (Note that student names will be included (but PIDs will be scraped from any groups who include their PIDs)).\n",
        "\n",
        "* [X] YES - make available\n",
        "* [  ] NO - keep private\n",
        "\n",
        "# Names\n",
        "\n",
        "- Jared Banawa\n",
        "- Hongchao Hu\n",
        "- Arina Konnova\n",
        "- Tiankuo Li\n",
        "- Khoi Nguyen\n",
        "\n",
        "# Abstract\n",
        "This study investigates the impact of playing in the NBA \"Bubble\" on player performance, focusing on multiple performance metrics such as field goal percentages (FG%), points per game, minutes per game, and defensive statistics. The NBA \"Bubble\" refers to the unique setting created at Disney World in Florida during the 2019-2020 season in response to the COVID-19 pandemic, where teams played without traditional home-court advantages and in the absence of live audiences.\n",
        "\n",
        "Our hypothesis posited that the \"Bubble\" environment would lead to noticeable changes in player performance metrics compared to traditional home and away games. However, our analysis, encompassing regular and post-seasons from 2018 to 2021, did not yield statistically significant differences in performance metrics, including Points per Game, Minutes per Game, Field Goal Percentages, and Turnover Rates.\n",
        "\n",
        "Exploratory Data Analysis revealed subtle year-to-year trends but suggested minimal variations in performance metrics between the \"Bubble\" season and typical seasons. Inferential Analysis through t-tests did not support our hypothesis, indicating that the unique conditions of the \"Bubble\" did not significantly impact player performance on a statistical or analytical level.\n",
        "\n",
        "While our findings do not provide evidence for a significant influence of the \"Bubble\" environment on player performance metrics, the study contributes to the broader understanding of how environmental factors may or may not affect professional athletes. Future research could delve deeper into the dynamics of home-court advantage, the psychological aspects of playing without an audience, and the potential long-term effects of such unique playing conditions."
      ],
      "metadata": {
        "id": "VgWkNOpfE-Yp"
      }
    },
    {
      "cell_type": "code",
      "execution_count": 1,
      "metadata": {
        "id": "lR8flBfAEp3E"
      },
      "outputs": [],
      "source": [
        "import pandas as pd\n",
        "import numpy as np\n",
        "import matplotlib.pyplot as plt\n",
        "import seaborn as sns\n",
        "from sklearn import datasets\n",
        "from sklearn.model_selection import cross_val_score, train_test_split\n",
        "from sklearn.linear_model import LinearRegression\n",
        "from sklearn.metrics import mean_squared_error\n",
        "from sklearn.preprocessing import OneHotEncoder"
      ]
    }
  ]
}